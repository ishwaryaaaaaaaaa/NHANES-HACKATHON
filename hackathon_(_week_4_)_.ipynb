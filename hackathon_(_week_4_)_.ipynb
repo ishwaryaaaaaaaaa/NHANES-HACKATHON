{
  "nbformat": 4,
  "nbformat_minor": 0,
  "metadata": {
    "colab": {
      "provenance": []
    },
    "kernelspec": {
      "name": "python3",
      "display_name": "Python 3"
    },
    "language_info": {
      "name": "python"
    }
  },
  "cells": [
    {
      "cell_type": "code",
      "execution_count": null,
      "metadata": {
        "id": "fd7HolvtV396"
      },
      "outputs": [],
      "source": []
    },
    {
      "cell_type": "code",
      "execution_count": null,
      "metadata": {
        "colab": {
          "base_uri": "https://localhost:8080/",
          "height": 73
        },
        "id": "dv6QncN3p29v",
        "outputId": "52e9730b-9a0b-4b13-8e1f-728be7428b38"
      },
      "outputs": [
        {
          "output_type": "display_data",
          "data": {
            "text/plain": [
              "<IPython.core.display.HTML object>"
            ],
            "text/html": [
              "\n",
              "     <input type=\"file\" id=\"files-9a269a1f-dd5b-4def-96d9-ccd03c89724a\" name=\"files[]\" multiple disabled\n",
              "        style=\"border:none\" />\n",
              "     <output id=\"result-9a269a1f-dd5b-4def-96d9-ccd03c89724a\">\n",
              "      Upload widget is only available when the cell has been executed in the\n",
              "      current browser session. Please rerun this cell to enable.\n",
              "      </output>\n",
              "      <script>// Copyright 2017 Google LLC\n",
              "//\n",
              "// Licensed under the Apache License, Version 2.0 (the \"License\");\n",
              "// you may not use this file except in compliance with the License.\n",
              "// You may obtain a copy of the License at\n",
              "//\n",
              "//      http://www.apache.org/licenses/LICENSE-2.0\n",
              "//\n",
              "// Unless required by applicable law or agreed to in writing, software\n",
              "// distributed under the License is distributed on an \"AS IS\" BASIS,\n",
              "// WITHOUT WARRANTIES OR CONDITIONS OF ANY KIND, either express or implied.\n",
              "// See the License for the specific language governing permissions and\n",
              "// limitations under the License.\n",
              "\n",
              "/**\n",
              " * @fileoverview Helpers for google.colab Python module.\n",
              " */\n",
              "(function(scope) {\n",
              "function span(text, styleAttributes = {}) {\n",
              "  const element = document.createElement('span');\n",
              "  element.textContent = text;\n",
              "  for (const key of Object.keys(styleAttributes)) {\n",
              "    element.style[key] = styleAttributes[key];\n",
              "  }\n",
              "  return element;\n",
              "}\n",
              "\n",
              "// Max number of bytes which will be uploaded at a time.\n",
              "const MAX_PAYLOAD_SIZE = 100 * 1024;\n",
              "\n",
              "function _uploadFiles(inputId, outputId) {\n",
              "  const steps = uploadFilesStep(inputId, outputId);\n",
              "  const outputElement = document.getElementById(outputId);\n",
              "  // Cache steps on the outputElement to make it available for the next call\n",
              "  // to uploadFilesContinue from Python.\n",
              "  outputElement.steps = steps;\n",
              "\n",
              "  return _uploadFilesContinue(outputId);\n",
              "}\n",
              "\n",
              "// This is roughly an async generator (not supported in the browser yet),\n",
              "// where there are multiple asynchronous steps and the Python side is going\n",
              "// to poll for completion of each step.\n",
              "// This uses a Promise to block the python side on completion of each step,\n",
              "// then passes the result of the previous step as the input to the next step.\n",
              "function _uploadFilesContinue(outputId) {\n",
              "  const outputElement = document.getElementById(outputId);\n",
              "  const steps = outputElement.steps;\n",
              "\n",
              "  const next = steps.next(outputElement.lastPromiseValue);\n",
              "  return Promise.resolve(next.value.promise).then((value) => {\n",
              "    // Cache the last promise value to make it available to the next\n",
              "    // step of the generator.\n",
              "    outputElement.lastPromiseValue = value;\n",
              "    return next.value.response;\n",
              "  });\n",
              "}\n",
              "\n",
              "/**\n",
              " * Generator function which is called between each async step of the upload\n",
              " * process.\n",
              " * @param {string} inputId Element ID of the input file picker element.\n",
              " * @param {string} outputId Element ID of the output display.\n",
              " * @return {!Iterable<!Object>} Iterable of next steps.\n",
              " */\n",
              "function* uploadFilesStep(inputId, outputId) {\n",
              "  const inputElement = document.getElementById(inputId);\n",
              "  inputElement.disabled = false;\n",
              "\n",
              "  const outputElement = document.getElementById(outputId);\n",
              "  outputElement.innerHTML = '';\n",
              "\n",
              "  const pickedPromise = new Promise((resolve) => {\n",
              "    inputElement.addEventListener('change', (e) => {\n",
              "      resolve(e.target.files);\n",
              "    });\n",
              "  });\n",
              "\n",
              "  const cancel = document.createElement('button');\n",
              "  inputElement.parentElement.appendChild(cancel);\n",
              "  cancel.textContent = 'Cancel upload';\n",
              "  const cancelPromise = new Promise((resolve) => {\n",
              "    cancel.onclick = () => {\n",
              "      resolve(null);\n",
              "    };\n",
              "  });\n",
              "\n",
              "  // Wait for the user to pick the files.\n",
              "  const files = yield {\n",
              "    promise: Promise.race([pickedPromise, cancelPromise]),\n",
              "    response: {\n",
              "      action: 'starting',\n",
              "    }\n",
              "  };\n",
              "\n",
              "  cancel.remove();\n",
              "\n",
              "  // Disable the input element since further picks are not allowed.\n",
              "  inputElement.disabled = true;\n",
              "\n",
              "  if (!files) {\n",
              "    return {\n",
              "      response: {\n",
              "        action: 'complete',\n",
              "      }\n",
              "    };\n",
              "  }\n",
              "\n",
              "  for (const file of files) {\n",
              "    const li = document.createElement('li');\n",
              "    li.append(span(file.name, {fontWeight: 'bold'}));\n",
              "    li.append(span(\n",
              "        `(${file.type || 'n/a'}) - ${file.size} bytes, ` +\n",
              "        `last modified: ${\n",
              "            file.lastModifiedDate ? file.lastModifiedDate.toLocaleDateString() :\n",
              "                                    'n/a'} - `));\n",
              "    const percent = span('0% done');\n",
              "    li.appendChild(percent);\n",
              "\n",
              "    outputElement.appendChild(li);\n",
              "\n",
              "    const fileDataPromise = new Promise((resolve) => {\n",
              "      const reader = new FileReader();\n",
              "      reader.onload = (e) => {\n",
              "        resolve(e.target.result);\n",
              "      };\n",
              "      reader.readAsArrayBuffer(file);\n",
              "    });\n",
              "    // Wait for the data to be ready.\n",
              "    let fileData = yield {\n",
              "      promise: fileDataPromise,\n",
              "      response: {\n",
              "        action: 'continue',\n",
              "      }\n",
              "    };\n",
              "\n",
              "    // Use a chunked sending to avoid message size limits. See b/62115660.\n",
              "    let position = 0;\n",
              "    do {\n",
              "      const length = Math.min(fileData.byteLength - position, MAX_PAYLOAD_SIZE);\n",
              "      const chunk = new Uint8Array(fileData, position, length);\n",
              "      position += length;\n",
              "\n",
              "      const base64 = btoa(String.fromCharCode.apply(null, chunk));\n",
              "      yield {\n",
              "        response: {\n",
              "          action: 'append',\n",
              "          file: file.name,\n",
              "          data: base64,\n",
              "        },\n",
              "      };\n",
              "\n",
              "      let percentDone = fileData.byteLength === 0 ?\n",
              "          100 :\n",
              "          Math.round((position / fileData.byteLength) * 100);\n",
              "      percent.textContent = `${percentDone}% done`;\n",
              "\n",
              "    } while (position < fileData.byteLength);\n",
              "  }\n",
              "\n",
              "  // All done.\n",
              "  yield {\n",
              "    response: {\n",
              "      action: 'complete',\n",
              "    }\n",
              "  };\n",
              "}\n",
              "\n",
              "scope.google = scope.google || {};\n",
              "scope.google.colab = scope.google.colab || {};\n",
              "scope.google.colab._files = {\n",
              "  _uploadFiles,\n",
              "  _uploadFilesContinue,\n",
              "};\n",
              "})(self);\n",
              "</script> "
            ]
          },
          "metadata": {}
        },
        {
          "output_type": "stream",
          "name": "stdout",
          "text": [
            "Saving Train_Data (2).csv to Train_Data (2).csv\n"
          ]
        }
      ],
      "source": [
        "from google.colab import files\n",
        "uploaded = files.upload()\n"
      ]
    },
    {
      "cell_type": "code",
      "source": [
        "import pandas as pd\n",
        "import matplotlib.pyplot as plt\n",
        "\n",
        "# Load dataset\n",
        "df = pd.read_csv('Train_Data (2).csv')\n",
        "\n",
        "# Basic look\n",
        "print(\"Shape of dataset:\", df.shape)\n",
        "print(\"\\nHead of dataset:\\n\", df.head())\n"
      ],
      "metadata": {
        "id": "OyTHqquJqEJG",
        "colab": {
          "base_uri": "https://localhost:8080/"
        },
        "outputId": "5f487d60-f827-4648-91d7-06894c0b39d5"
      },
      "execution_count": null,
      "outputs": [
        {
          "output_type": "stream",
          "name": "stdout",
          "text": [
            "Shape of dataset: (1966, 9)\n",
            "\n",
            "Head of dataset:\n",
            "       SEQN  RIAGENDR  PAQ605  BMXBMI  LBXGLU  DIQ010  LBXGLT  LBXIN age_group\n",
            "0  73564.0       2.0     2.0    35.7   110.0     2.0   150.0  14.91     Adult\n",
            "1  73568.0       2.0     2.0    20.3    89.0     2.0    80.0   3.85     Adult\n",
            "2  73576.0       1.0     2.0    23.2    89.0     2.0    68.0   6.14     Adult\n",
            "3  73577.0       1.0     2.0    28.9   104.0     NaN    84.0  16.15     Adult\n",
            "4  73580.0       2.0     1.0    35.9   103.0     2.0    81.0  10.92     Adult\n"
          ]
        }
      ]
    },
    {
      "cell_type": "code",
      "source": [
        "# Info and data types\n",
        "print(\"\\nData Info:\")\n",
        "print(df.info())\n",
        "\n",
        "# Summary stats\n",
        "print(\"\\nDescriptive Stats:\")\n",
        "print(df.describe(include='all'))\n"
      ],
      "metadata": {
        "id": "OJKU-dEGqMBv",
        "colab": {
          "base_uri": "https://localhost:8080/"
        },
        "outputId": "f8d55469-af3b-4795-b94e-7def8d26289d"
      },
      "execution_count": null,
      "outputs": [
        {
          "output_type": "stream",
          "name": "stdout",
          "text": [
            "\n",
            "Data Info:\n",
            "<class 'pandas.core.frame.DataFrame'>\n",
            "RangeIndex: 1966 entries, 0 to 1965\n",
            "Data columns (total 9 columns):\n",
            " #   Column     Non-Null Count  Dtype  \n",
            "---  ------     --------------  -----  \n",
            " 0   SEQN       1954 non-null   float64\n",
            " 1   RIAGENDR   1948 non-null   float64\n",
            " 2   PAQ605     1953 non-null   float64\n",
            " 3   BMXBMI     1948 non-null   float64\n",
            " 4   LBXGLU     1953 non-null   float64\n",
            " 5   DIQ010     1948 non-null   float64\n",
            " 6   LBXGLT     1955 non-null   float64\n",
            " 7   LBXIN      1957 non-null   float64\n",
            " 8   age_group  1952 non-null   object \n",
            "dtypes: float64(8), object(1)\n",
            "memory usage: 138.4+ KB\n",
            "None\n",
            "\n",
            "Descriptive Stats:\n",
            "                SEQN     RIAGENDR       PAQ605       BMXBMI       LBXGLU  \\\n",
            "count    1954.000000  1948.000000  1953.000000  1948.000000  1953.000000   \n",
            "unique           NaN          NaN          NaN          NaN          NaN   \n",
            "top              NaN          NaN          NaN          NaN          NaN   \n",
            "freq             NaN          NaN          NaN          NaN          NaN   \n",
            "mean    78683.621801     1.510267     1.825397    27.965400    99.491039   \n",
            "std      2924.115709     0.500023     0.399449     7.327616    16.774665   \n",
            "min     73564.000000     1.000000     1.000000    14.500000    63.000000   \n",
            "25%     76194.000000     1.000000     2.000000    22.800000    91.000000   \n",
            "50%     78717.000000     2.000000     2.000000    26.800000    97.000000   \n",
            "75%     81217.000000     2.000000     2.000000    31.300000   104.000000   \n",
            "max     83727.000000     2.000000     7.000000    70.100000   405.000000   \n",
            "\n",
            "             DIQ010       LBXGLT        LBXIN age_group  \n",
            "count   1948.000000  1955.000000  1957.000000      1952  \n",
            "unique          NaN          NaN          NaN         2  \n",
            "top             NaN          NaN          NaN     Adult  \n",
            "freq            NaN          NaN          NaN      1638  \n",
            "mean       2.015914   115.150384    11.862892       NaN  \n",
            "std        0.187579    46.271615     9.756713       NaN  \n",
            "min        1.000000    40.000000     0.140000       NaN  \n",
            "25%        2.000000    87.000000     5.800000       NaN  \n",
            "50%        2.000000   105.000000     9.030000       NaN  \n",
            "75%        2.000000   131.000000    14.480000       NaN  \n",
            "max        3.000000   604.000000   102.290000       NaN  \n"
          ]
        }
      ]
    },
    {
      "cell_type": "code",
      "source": [
        "# Null values count\n",
        "null_counts = df.isnull().sum()\n",
        "\n",
        "print(\"\\nMissing Values:\\n\", null_counts)\n",
        "\n",
        "# Plot nulls\n",
        "plt.figure(figsize=(10, 5))\n",
        "null_counts[null_counts > 0].plot(kind='bar', color='orange')\n",
        "plt.title(\"Missing Values per Feature\")\n",
        "plt.ylabel(\"Count\")\n",
        "plt.xticks(rotation=45)\n",
        "plt.grid()\n",
        "plt.show()\n",
        "\n",
        "# Check non-null\n",
        "print(\"\\nNon-Null Value Count:\")\n",
        "print(df.notnull().sum())\n"
      ],
      "metadata": {
        "id": "qkXQepAiqYl7",
        "colab": {
          "base_uri": "https://localhost:8080/",
          "height": 931
        },
        "outputId": "286207af-0108-43c1-f248-5e49cc65d277"
      },
      "execution_count": null,
      "outputs": [
        {
          "output_type": "stream",
          "name": "stdout",
          "text": [
            "\n",
            "Missing Values:\n",
            " SEQN         12\n",
            "RIAGENDR     18\n",
            "PAQ605       13\n",
            "BMXBMI       18\n",
            "LBXGLU       13\n",
            "DIQ010       18\n",
            "LBXGLT       11\n",
            "LBXIN         9\n",
            "age_group    14\n",
            "dtype: int64\n"
          ]
        },
        {
          "output_type": "display_data",
          "data": {
            "text/plain": [
              "<Figure size 1000x500 with 1 Axes>"
            ],
            "image/png": "[encoded data removed]"
          },
          "metadata": {}
        },
        {
          "output_type": "stream",
          "name": "stdout",
          "text": [
            "\n",
            "Non-Null Value Count:\n",
            "SEQN         1954\n",
            "RIAGENDR     1948\n",
            "PAQ605       1953\n",
            "BMXBMI       1948\n",
            "LBXGLU       1953\n",
            "DIQ010       1948\n",
            "LBXGLT       1955\n",
            "LBXIN        1957\n",
            "age_group    1952\n",
            "dtype: int64\n"
          ]
        }
      ]
    },
    {
      "cell_type": "code",
      "source": [
        "# Class distribution\n",
        "print(df['age_group'].value_counts())\n",
        "\n",
        "# Bar plot of class balance\n",
        "df['age_group'].value_counts().plot(kind='bar', color=['skyblue', 'salmon'])\n",
        "plt.title(\"Distribution of Target Variable (age_group)\")\n",
        "plt.xlabel(\"Class (0 = Adult, 1 = Senior)\")\n",
        "plt.ylabel(\"Count\")\n",
        "plt.grid()\n",
        "plt.show()\n"
      ],
      "metadata": {
        "id": "pvLDYBFbqg8f",
        "colab": {
          "base_uri": "https://localhost:8080/",
          "height": 571
        },
        "outputId": "4c9c2032-f1d4-4e77-a52c-ede9c27b4dbf"
      },
      "execution_count": null,
      "outputs": [
        {
          "output_type": "stream",
          "name": "stdout",
          "text": [
            "age_group\n",
            "Adult     1638\n",
            "Senior     314\n",
            "Name: count, dtype: int64\n"
          ]
        },
        {
          "output_type": "display_data",
          "data": {
            "text/plain": [
              "<Figure size 640x480 with 1 Axes>"
            ],
            "image/png": "[encoded data removed]"
          },
          "metadata": {}
        }
      ]
    },
    {
      "cell_type": "code",
      "source": [],
      "metadata": {
        "id": "gykxvwCDq6Xi"
      },
      "execution_count": null,
      "outputs": []
    },
    {
      "cell_type": "code",
      "source": [
        "numerical_cols = ['BMXBMI', 'LBXGLU', 'LBXGLT', 'LBXIN']\n",
        "\n",
        "df[numerical_cols].hist(bins=30, figsize=(12, 8), color='steelblue', edgecolor='black')\n",
        "plt.suptitle(\"Histograms of Numerical Features\")\n",
        "plt.tight_layout()\n",
        "plt.show()\n"
      ],
      "metadata": {
        "id": "m0rHFx9tqoS7",
        "colab": {
          "base_uri": "https://localhost:8080/",
          "height": 806
        },
        "outputId": "e2de5f1d-e24a-4edd-8861-fba3723d530f"
      },
      "execution_count": null,
      "outputs": [
        {
          "output_type": "display_data",
          "data": {
            "text/plain": [
              "<Figure size 1200x800 with 4 Axes>"
            ],
            "image/png": "[encoded data removed]"
          },
          "metadata": {}
        }
      ]
    },
    {
      "cell_type": "code",
      "source": [
        "for col in numerical_cols:\n",
        "    plt.figure(figsize=(6, 4))\n",
        "    df.boxplot(column=col)\n",
        "    plt.title(f\"Boxplot for {col}\")\n",
        "    plt.ylabel(col)\n",
        "    plt.grid()\n",
        "    plt.show()\n"
      ],
      "metadata": {
        "id": "RHNcPaflq7FY",
        "colab": {
          "base_uri": "https://localhost:8080/",
          "height": 1000
        },
        "outputId": "79c39346-a9c5-463f-c3b5-01910d7df615"
      },
      "execution_count": null,
      "outputs": [
        {
          "output_type": "display_data",
          "data": {
            "text/plain": [
              "<Figure size 600x400 with 1 Axes>"
            ],
            "image/png": "[encoded data removed]"
          },
          "metadata": {}
        },
        {
          "output_type": "display_data",
          "data": {
            "text/plain": [
              "<Figure size 600x400 with 1 Axes>"
            ],
            "image/png": "[encoded data removed]"
          },
          "metadata": {}
        },
        {
          "output_type": "display_data",
          "data": {
            "text/plain": [
              "<Figure size 600x400 with 1 Axes>"
            ],
            "image/png": "[encoded data removed]"
          },
          "metadata": {}
        },
        {
          "output_type": "display_data",
          "data": {
            "text/plain": [
              "<Figure size 600x400 with 1 Axes>"
            ],
            "image/png": "[encoded data removed]"
          },
          "metadata": {}
        }
      ]
    },
    {
      "cell_type": "code",
      "source": [
        "# Gender\n",
        "pd.crosstab(df['RIAGENDR'], df['age_group']).plot(kind='bar')\n",
        "plt.title(\"Gender vs Age Group\")\n",
        "plt.xlabel(\"Gender (1=Male, 2=Female)\")\n",
        "plt.ylabel(\"Count\")\n",
        "plt.grid()\n",
        "plt.show()\n",
        "\n",
        "# Diabetes\n",
        "pd.crosstab(df['DIQ010'], df['age_group']).plot(kind='bar', colormap='Accent')\n",
        "plt.title(\"Diabetes Response vs Age Group\")\n",
        "plt.xlabel(\"DIQ010 Response\")\n",
        "plt.ylabel(\"Count\")\n",
        "plt.grid()\n",
        "plt.show()\n"
      ],
      "metadata": {
        "id": "Y8_x4hEiq-ZY",
        "colab": {
          "base_uri": "https://localhost:8080/",
          "height": 943
        },
        "outputId": "3bf86fd6-4fb4-45a1-a27f-b5d990146dc3"
      },
      "execution_count": null,
      "outputs": [
        {
          "output_type": "display_data",
          "data": {
            "text/plain": [
              "<Figure size 640x480 with 1 Axes>"
            ],
            "image/png": "[encoded data removed]"
          },
          "metadata": {}
        },
        {
          "output_type": "display_data",
          "data": {
            "text/plain": [
              "<Figure size 640x480 with 1 Axes>"
            ],
            "image/png": "[encoded data removed]"
          },
          "metadata": {}
        }
      ]
    },
    {
      "cell_type": "code",
      "source": [
        "print(df['age_group'].unique())\n"
      ],
      "metadata": {
        "id": "neCVjSwIrWzF",
        "colab": {
          "base_uri": "https://localhost:8080/"
        },
        "outputId": "38aa251c-3920-4ec0-8b54-4a61024a36c2"
      },
      "execution_count": null,
      "outputs": [
        {
          "output_type": "stream",
          "name": "stdout",
          "text": [
            "['Adult' 'Senior' nan]\n"
          ]
        }
      ]
    },
    {
      "cell_type": "code",
      "source": [
        "df['age_group'] = df['age_group'].map({'Adult': 0, 'Senior': 1})\n"
      ],
      "metadata": {
        "id": "WEMJR2BtrY3d"
      },
      "execution_count": null,
      "outputs": []
    },
    {
      "cell_type": "code",
      "source": [
        "numerical_cols = ['BMXBMI', 'LBXGLU', 'LBXGLT', 'LBXIN', 'age_group']\n",
        "\n",
        "# Compute correlation\n",
        "correlation = df[numerical_cols].corr()\n",
        "\n",
        "# Plot correlation matrix\n",
        "import matplotlib.pyplot as plt\n",
        "\n",
        "plt.figure(figsize=(8, 6))\n",
        "plt.imshow(correlation, cmap='coolwarm', interpolation='none')\n",
        "plt.colorbar()\n",
        "plt.xticks(range(len(correlation)), correlation.columns, rotation=45)\n",
        "plt.yticks(range(len(correlation)), correlation.columns)\n",
        "plt.title(\"Correlation Matrix (Including Encoded age_group)\")\n",
        "plt.tight_layout()\n",
        "plt.show()\n"
      ],
      "metadata": {
        "id": "TeV6PtFgrbds",
        "colab": {
          "base_uri": "https://localhost:8080/",
          "height": 607
        },
        "outputId": "925fda51-7d92-44a2-8cd2-7e9b441591bd"
      },
      "execution_count": null,
      "outputs": [
        {
          "output_type": "display_data",
          "data": {
            "text/plain": [
              "<Figure size 800x600 with 2 Axes>"
            ],
            "image/png": "[encoded data removed]"
          },
          "metadata": {}
        }
      ]
    },
    {
      "cell_type": "code",
      "source": [
        "if 'SEQN' in df.columns:\n",
        "    df.drop(columns=['SEQN'], inplace=True)\n"
      ],
      "metadata": {
        "id": "cWq2BMCUrgnP"
      },
      "execution_count": null,
      "outputs": []
    },
    {
      "cell_type": "code",
      "source": [
        "# Drop rows where age_group is null\n",
        "df = df.dropna(subset=['age_group'])\n",
        "\n",
        "# Reset index (optional but clean)\n",
        "df = df.reset_index(drop=True)\n",
        "\n",
        "print(\"✅ Rows with missing age_group have been dropped.\")\n",
        "print(\"🧾 New shape of dataset:\", df.shape)\n"
      ],
      "metadata": {
        "id": "B_GtTglgr0sC",
        "colab": {
          "base_uri": "https://localhost:8080/"
        },
        "outputId": "4e53e0e9-6a8b-412d-d6f8-a11c0c578a2d"
      },
      "execution_count": null,
      "outputs": [
        {
          "output_type": "stream",
          "name": "stdout",
          "text": [
            "✅ Rows with missing age_group have been dropped.\n",
            "🧾 New shape of dataset: (1952, 8)\n"
          ]
        }
      ]
    },
    {
      "cell_type": "code",
      "source": [
        "from sklearn.impute import KNNImputer\n",
        "from sklearn.preprocessing import StandardScaler\n",
        "\n",
        "# Scale data first (important for KNN)\n",
        "scaler = StandardScaler()\n",
        "scaled = scaler.fit_transform(df[numerical_cols])\n",
        "\n",
        "# KNN Imputer\n",
        "knn_imputer = KNNImputer(n_neighbors=5)\n",
        "scaled_imputed = knn_imputer.fit_transform(scaled)\n",
        "\n",
        "# Inverse scale and update DataFrame\n",
        "df[numerical_cols] = scaler.inverse_transform(scaled_imputed)\n",
        "\n",
        "print(\"✅ KNN Imputation applied.\")\n"
      ],
      "metadata": {
        "id": "KHZEfIlXsH4h",
        "colab": {
          "base_uri": "https://localhost:8080/"
        },
        "outputId": "88aecef3-77f4-4637-f327-80ef280d0e31"
      },
      "execution_count": null,
      "outputs": [
        {
          "output_type": "stream",
          "name": "stdout",
          "text": [
            "✅ KNN Imputation applied.\n"
          ]
        }
      ]
    },
    {
      "cell_type": "code",
      "source": [
        "from sklearn.experimental import enable_iterative_imputer  # noqa\n",
        "from sklearn.impute import IterativeImputer\n",
        "\n",
        "iter_imputer = IterativeImputer(random_state=42, max_iter=10)\n",
        "\n",
        "# Fit on numerical columns\n",
        "df[numerical_cols] = iter_imputer.fit_transform(df[numerical_cols])\n",
        "\n",
        "print(\"✅ Iterative Imputation applied.\")\n"
      ],
      "metadata": {
        "id": "_wgWsAM2sjZA",
        "colab": {
          "base_uri": "https://localhost:8080/"
        },
        "outputId": "a85061bd-5c9f-4929-b28a-831f7903f5db"
      },
      "execution_count": null,
      "outputs": [
        {
          "output_type": "stream",
          "name": "stdout",
          "text": [
            "✅ Iterative Imputation applied.\n"
          ]
        }
      ]
    },
    {
      "cell_type": "code",
      "source": [
        "# Fill with most frequent or custom category\n",
        "for col in ['RIAGENDR', 'PAQ605', 'DIQ010']:\n",
        "    df[col] = df[col].fillna(df[col].mode()[0])\n"
      ],
      "metadata": {
        "id": "xQlcZJmKsmzh"
      },
      "execution_count": null,
      "outputs": []
    },
    {
      "cell_type": "code",
      "source": [
        "null_counts = df.isnull().sum()\n",
        "print(\"🔍 Null values per column:\\n\")\n",
        "print(null_counts)\n"
      ],
      "metadata": {
        "id": "cr-PnJdcsrw9",
        "colab": {
          "base_uri": "https://localhost:8080/"
        },
        "outputId": "03da8cad-020d-44ff-bc3e-e9d52137d189"
      },
      "execution_count": null,
      "outputs": [
        {
          "output_type": "stream",
          "name": "stdout",
          "text": [
            "🔍 Null values per column:\n",
            "\n",
            "RIAGENDR     18\n",
            "PAQ605       13\n",
            "BMXBMI        0\n",
            "LBXGLU        0\n",
            "DIQ010       18\n",
            "LBXGLT        0\n",
            "LBXIN         0\n",
            "age_group     0\n",
            "dtype: int64\n"
          ]
        }
      ]
    },
    {
      "cell_type": "code",
      "source": [
        "print(\"📌 Columns with missing values:\")\n",
        "print(null_counts[null_counts > 0])\n"
      ],
      "metadata": {
        "id": "RYq63dwds6F0",
        "colab": {
          "base_uri": "https://localhost:8080/"
        },
        "outputId": "6401138b-7cc2-4800-c2b2-ae7dd9a14125"
      },
      "execution_count": null,
      "outputs": [
        {
          "output_type": "stream",
          "name": "stdout",
          "text": [
            "📌 Columns with missing values:\n",
            "RIAGENDR    18\n",
            "PAQ605      13\n",
            "DIQ010      18\n",
            "dtype: int64\n"
          ]
        }
      ]
    },
    {
      "cell_type": "code",
      "source": [
        "def cap_outliers_iqr(df, col):\n",
        "    Q1 = df[col].quantile(0.25)\n",
        "    Q3 = df[col].quantile(0.75)\n",
        "    IQR = Q3 - Q1\n",
        "\n",
        "    lower = Q1 - 1.5 * IQR\n",
        "    upper = Q3 + 1.5 * IQR\n",
        "\n",
        "    # Capping values\n",
        "    df[col] = df[col].apply(lambda x: lower if x < lower else upper if x > upper else x)\n",
        "    return df\n"
      ],
      "metadata": {
        "id": "afVBjV81s-yK"
      },
      "execution_count": null,
      "outputs": []
    },
    {
      "cell_type": "code",
      "source": [
        "numerical_cols = ['BMXBMI', 'LBXGLU', 'LBXGLT', 'LBXIN']\n",
        "\n",
        "for col in numerical_cols:\n",
        "    df = cap_outliers_iqr(df, col)\n",
        "\n",
        "print(\"✅ Outliers capped using IQR method.\")\n"
      ],
      "metadata": {
        "id": "vF5TFjbstO3E",
        "colab": {
          "base_uri": "https://localhost:8080/"
        },
        "outputId": "d3b3c925-5a7b-42ab-b35b-65d78eece3d9"
      },
      "execution_count": null,
      "outputs": [
        {
          "output_type": "stream",
          "name": "stdout",
          "text": [
            "✅ Outliers capped using IQR method.\n"
          ]
        }
      ]
    },
    {
      "cell_type": "code",
      "source": [
        "import matplotlib.pyplot as plt\n",
        "\n",
        "for col in numerical_cols:\n",
        "    plt.figure(figsize=(12, 4))\n",
        "\n",
        "    # Before capping (if you stored original values)\n",
        "    # plt.subplot(1, 2, 1)\n",
        "    # df_original.boxplot(column=col)\n",
        "    # plt.title(f\"Before: {col}\")\n",
        "\n",
        "    # After capping\n",
        "    df.boxplot(column=col)\n",
        "    plt.title(f\"After IQR Capping: {col}\")\n",
        "    plt.grid()\n",
        "    plt.show()\n"
      ],
      "metadata": {
        "id": "Gg1tg0l6tRps",
        "colab": {
          "base_uri": "https://localhost:8080/",
          "height": 1000
        },
        "outputId": "b258a884-a83d-4230-f87d-55d4e063b65f"
      },
      "execution_count": null,
      "outputs": [
        {
          "output_type": "display_data",
          "data": {
            "text/plain": [
              "<Figure size 1200x400 with 1 Axes>"
            ],
            "image/png": "[encoded data removed]"
          },
          "metadata": {}
        },
        {
          "output_type": "display_data",
          "data": {
            "text/plain": [
              "<Figure size 1200x400 with 1 Axes>"
            ],
            "image/png": "[encoded data removed]"
          },
          "metadata": {}
        },
        {
          "output_type": "display_data",
          "data": {
            "text/plain": [
              "<Figure size 1200x400 with 1 Axes>"
            ],
            "image/png": "[encoded data removed]"
          },
          "metadata": {}
        },
        {
          "output_type": "display_data",
          "data": {
            "text/plain": [
              "<Figure size 1200x400 with 1 Axes>"
            ],
            "image/png": "[encoded data removed]"
          },
          "metadata": {}
        }
      ]
    },
    {
      "cell_type": "code",
      "source": [
        "print(df[['RIAGENDR', 'PAQ605', 'DIQ010']].head())\n"
      ],
      "metadata": {
        "colab": {
          "base_uri": "https://localhost:8080/"
        },
        "id": "SaWfKn1oTGjM",
        "outputId": "eb416914-adec-4a23-be78-cd8d751b5cc9"
      },
      "execution_count": null,
      "outputs": [
        {
          "output_type": "stream",
          "name": "stdout",
          "text": [
            "   RIAGENDR  PAQ605  DIQ010\n",
            "0       2.0     2.0     2.0\n",
            "1       2.0     2.0     2.0\n",
            "2       1.0     2.0     2.0\n",
            "3       1.0     2.0     NaN\n",
            "4       2.0     1.0     2.0\n"
          ]
        }
      ]
    },
    {
      "cell_type": "code",
      "source": [
        "from sklearn.preprocessing import LabelEncoder\n",
        "\n",
        "# Define the categorical columns\n",
        "categorical_cols = ['RIAGENDR', 'PAQ605', 'DIQ010']\n",
        "label_encoders = {}\n",
        "\n",
        "# Apply Label Encoding with .fit() and .transform()\n",
        "for col in categorical_cols:\n",
        "    le = LabelEncoder()\n",
        "    df[col] = le.fit_transform(df[col])  # .fit() + .transform() together\n",
        "    label_encoders[col] = le             # Store encoder for future .transform() on test\n"
      ],
      "metadata": {
        "id": "L_m0Dwc4TLf1"
      },
      "execution_count": null,
      "outputs": []
    },
    {
      "cell_type": "code",
      "source": [
        "# Step 1: Import libraries\n",
        "from sklearn.model_selection import train_test_split\n",
        "from xgboost import XGBClassifier\n",
        "from sklearn.metrics import f1_score, precision_score, confusion_matrix, classification_report\n",
        "import seaborn as sns\n",
        "import matplotlib.pyplot as plt\n",
        "\n",
        "# Step 2: Split into features and target\n",
        "X = df.drop(columns=['age_group'])  # adjust target column if different\n",
        "y = df['age_group']\n",
        "\n",
        "# Step 3: Stratified Train-Validation split for balanced class distribution\n",
        "X_train, X_val, y_train, y_val = train_test_split(\n",
        "    X, y, test_size=0.2, stratify=y, random_state=42\n",
        ")\n",
        "\n",
        "# Step 4: Train XGBoost model\n",
        "xgb_model = XGBClassifier(\n",
        "    objective='binary:logistic',\n",
        "    eval_metric='logloss',\n",
        "    use_label_encoder=False,\n",
        "    random_state=42\n",
        ")\n",
        "xgb_model.fit(X_train, y_train)\n",
        "\n",
        "# Step 5: Predict on validation set\n",
        "y_pred = xgb_model.predict(X_val)\n",
        "\n",
        "# Step 6: Evaluate performance\n",
        "print(\"Confusion Matrix:\")\n",
        "print(confusion_matrix(y_val, y_pred))\n",
        "\n",
        "print(\"\\nF1 Score:\", f1_score(y_val, y_pred, average='weighted'))\n",
        "print(\"Precision:\", precision_score(y_val, y_pred, average='weighted'))\n",
        "\n",
        "print(\"\\nClassification Report:\")\n",
        "print(classification_report(y_val, y_pred))\n",
        "\n",
        "# Step 7: Plot top features (optional but useful!)\n",
        "importances = xgb_model.feature_importances_\n",
        "feat_imp = pd.Series(importances, index=X.columns).sort_values(ascending=False)\n",
        "\n",
        "plt.figure(figsize=(10, 6))\n",
        "sns.barplot(x=feat_imp[:20], y=feat_imp.index[:20])\n",
        "plt.title(\"Top 20 Feature Importances\")\n",
        "plt.tight_layout()\n",
        "plt.show()\n"
      ],
      "metadata": {
        "colab": {
          "base_uri": "https://localhost:8080/",
          "height": 971
        },
        "id": "HW-VpwiULuSv",
        "outputId": "4a0342c2-8798-4783-e7f0-1adf4c1d178a"
      },
      "execution_count": null,
      "outputs": [
        {
          "output_type": "stream",
          "name": "stderr",
          "text": [
            "/usr/local/lib/python3.11/dist-packages/xgboost/core.py:158: UserWarning: [04:09:01] WARNING: /workspace/src/learner.cc:740: \n",
            "Parameters: { \"use_label_encoder\" } are not used.\n",
            "\n",
            "  warnings.warn(smsg, UserWarning)\n"
          ]
        },
        {
          "output_type": "stream",
          "name": "stdout",
          "text": [
            "Confusion Matrix:\n",
            "[[301  27]\n",
            " [ 55   8]]\n",
            "\n",
            "F1 Score: 0.764614007311544\n",
            "Precision: 0.74610189947987\n",
            "\n",
            "Classification Report:\n",
            "              precision    recall  f1-score   support\n",
            "\n",
            "         0.0       0.85      0.92      0.88       328\n",
            "         1.0       0.23      0.13      0.16        63\n",
            "\n",
            "    accuracy                           0.79       391\n",
            "   macro avg       0.54      0.52      0.52       391\n",
            "weighted avg       0.75      0.79      0.76       391\n",
            "\n"
          ]
        },
        {
          "output_type": "display_data",
          "data": {
            "text/plain": [
              "<Figure size 1000x600 with 1 Axes>"
            ],
            "image/png": "[encoded data removed]"
          },
          "metadata": {}
        }
      ]
    },
    {
      "cell_type": "code",
      "source": [
        "from imblearn.over_sampling import SMOTE\n",
        "from sklearn.model_selection import train_test_split\n",
        "\n",
        "# Before train_test_split (to keep validation clean)\n",
        "X = df.drop(columns=['age_group'])\n",
        "y = df['age_group']\n",
        "\n",
        "X_train, X_val, y_train, y_val = train_test_split(X, y, stratify=y, test_size=0.2, random_state=42)\n",
        "\n",
        "# Apply SMOTE to training data only\n",
        "smote = SMOTE(random_state=42)\n",
        "X_train_sm, y_train_sm = smote.fit_resample(X_train, y_train)\n",
        "\n",
        "# Then fit XGBoost on X_train_sm, y_train_sm\n"
      ],
      "metadata": {
        "id": "XBe8dkxgL0Gz"
      },
      "execution_count": null,
      "outputs": []
    },
    {
      "cell_type": "code",
      "source": [
        "from xgboost import XGBClassifier\n",
        "\n",
        "# Train XGBoost on SMOTE-balanced data\n",
        "xgb_model = XGBClassifier(\n",
        "    objective='binary:logistic',      # or 'multi:softprob' if multiclass\n",
        "    eval_metric='logloss',\n",
        "    use_label_encoder=False,\n",
        "    random_state=42\n",
        ")\n",
        "\n",
        "xgb_model.fit(X_train_sm, y_train_sm)\n"
      ],
      "metadata": {
        "colab": {
          "base_uri": "https://localhost:8080/",
          "height": 323
        },
        "id": "Kg2xZCN6MOpH",
        "outputId": "3423dc17-c811-459e-fe80-15af95db3c94"
      },
      "execution_count": null,
      "outputs": [
        {
          "output_type": "stream",
          "name": "stderr",
          "text": [
            "/usr/local/lib/python3.11/dist-packages/xgboost/core.py:158: UserWarning: [04:09:14] WARNING: /workspace/src/learner.cc:740: \n",
            "Parameters: { \"use_label_encoder\" } are not used.\n",
            "\n",
            "  warnings.warn(smsg, UserWarning)\n"
          ]
        },
        {
          "output_type": "execute_result",
          "data": {
            "text/plain": [
              "XGBClassifier(base_score=None, booster=None, callbacks=None,\n",
              "              colsample_bylevel=None, colsample_bynode=None,\n",
              "              colsample_bytree=None, device=None, early_stopping_rounds=None,\n",
              "              enable_categorical=False, eval_metric='logloss',\n",
              "              feature_types=None, gamma=None, grow_policy=None,\n",
              "              importance_type=None, interaction_constraints=None,\n",
              "              learning_rate=None, max_bin=None, max_cat_threshold=None,\n",
              "              max_cat_to_onehot=None, max_delta_step=None, max_depth=None,\n",
              "              max_leaves=None, min_child_weight=None, missing=nan,\n",
              "              monotone_constraints=None, multi_strategy=None, n_estimators=None,\n",
              "              n_jobs=None, num_parallel_tree=None, random_state=42, ...)"
            ],
            "text/html": [
              "<style>#sk-container-id-3 {\n",
              "  /* Definition of color scheme common for light and dark mode */\n",
              "  --sklearn-color-text: #000;\n",
              "  --sklearn-color-text-muted: #666;\n",
              "  --sklearn-color-line: gray;\n",
              "  /* Definition of color scheme for unfitted estimators */\n",
              "  --sklearn-color-unfitted-level-0: #fff5e6;\n",
              "  --sklearn-color-unfitted-level-1: #f6e4d2;\n",
              "  --sklearn-color-unfitted-level-2: #ffe0b3;\n",
              "  --sklearn-color-unfitted-level-3: chocolate;\n",
              "  /* Definition of color scheme for fitted estimators */\n",
              "  --sklearn-color-fitted-level-0: #f0f8ff;\n",
              "  --sklearn-color-fitted-level-1: #d4ebff;\n",
              "  --sklearn-color-fitted-level-2: #b3dbfd;\n",
              "  --sklearn-color-fitted-level-3: cornflowerblue;\n",
              "\n",
              "  /* Specific color for light theme */\n",
              "  --sklearn-color-text-on-default-background: var(--sg-text-color, var(--theme-code-foreground, var(--jp-content-font-color1, black)));\n",
              "  --sklearn-color-background: var(--sg-background-color, var(--theme-background, var(--jp-layout-color0, white)));\n",
              "  --sklearn-color-border-box: var(--sg-text-color, var(--theme-code-foreground, var(--jp-content-font-color1, black)));\n",
              "  --sklearn-color-icon: #696969;\n",
              "\n",
              "  @media (prefers-color-scheme: dark) {\n",
              "    /* Redefinition of color scheme for dark theme */\n",
              "    --sklearn-color-text-on-default-background: var(--sg-text-color, var(--theme-code-foreground, var(--jp-content-font-color1, white)));\n",
              "    --sklearn-color-background: var(--sg-background-color, var(--theme-background, var(--jp-layout-color0, #111)));\n",
              "    --sklearn-color-border-box: var(--sg-text-color, var(--theme-code-foreground, var(--jp-content-font-color1, white)));\n",
              "    --sklearn-color-icon: #878787;\n",
              "  }\n",
              "}\n",
              "\n",
              "#sk-container-id-3 {\n",
              "  color: var(--sklearn-color-text);\n",
              "}\n",
              "\n",
              "#sk-container-id-3 pre {\n",
              "  padding: 0;\n",
              "}\n",
              "\n",
              "#sk-container-id-3 input.sk-hidden--visually {\n",
              "  border: 0;\n",
              "  clip: rect(1px 1px 1px 1px);\n",
              "  clip: rect(1px, 1px, 1px, 1px);\n",
              "  height: 1px;\n",
              "  margin: -1px;\n",
              "  overflow: hidden;\n",
              "  padding: 0;\n",
              "  position: absolute;\n",
              "  width: 1px;\n",
              "}\n",
              "\n",
              "#sk-container-id-3 div.sk-dashed-wrapped {\n",
              "  border: 1px dashed var(--sklearn-color-line);\n",
              "  margin: 0 0.4em 0.5em 0.4em;\n",
              "  box-sizing: border-box;\n",
              "  padding-bottom: 0.4em;\n",
              "  background-color: var(--sklearn-color-background);\n",
              "}\n",
              "\n",
              "#sk-container-id-3 div.sk-container {\n",
              "  /* jupyter's `normalize.less` sets `[hidden] { display: none; }`\n",
              "     but bootstrap.min.css set `[hidden] { display: none !important; }`\n",
              "     so we also need the `!important` here to be able to override the\n",
              "     default hidden behavior on the sphinx rendered scikit-learn.org.\n",
              "     See: https://github.com/scikit-learn/scikit-learn/issues/21755 */\n",
              "  display: inline-block !important;\n",
              "  position: relative;\n",
              "}\n",
              "\n",
              "#sk-container-id-3 div.sk-text-repr-fallback {\n",
              "  display: none;\n",
              "}\n",
              "\n",
              "div.sk-parallel-item,\n",
              "div.sk-serial,\n",
              "div.sk-item {\n",
              "  /* draw centered vertical line to link estimators */\n",
              "  background-image: linear-gradient(var(--sklearn-color-text-on-default-background), var(--sklearn-color-text-on-default-background));\n",
              "  background-size: 2px 100%;\n",
              "  background-repeat: no-repeat;\n",
              "  background-position: center center;\n",
              "}\n",
              "\n",
              "/* Parallel-specific style estimator block */\n",
              "\n",
              "#sk-container-id-3 div.sk-parallel-item::after {\n",
              "  content: \"\";\n",
              "  width: 100%;\n",
              "  border-bottom: 2px solid var(--sklearn-color-text-on-default-background);\n",
              "  flex-grow: 1;\n",
              "}\n",
              "\n",
              "#sk-container-id-3 div.sk-parallel {\n",
              "  display: flex;\n",
              "  align-items: stretch;\n",
              "  justify-content: center;\n",
              "  background-color: var(--sklearn-color-background);\n",
              "  position: relative;\n",
              "}\n",
              "\n",
              "#sk-container-id-3 div.sk-parallel-item {\n",
              "  display: flex;\n",
              "  flex-direction: column;\n",
              "}\n",
              "\n",
              "#sk-container-id-3 div.sk-parallel-item:first-child::after {\n",
              "  align-self: flex-end;\n",
              "  width: 50%;\n",
              "}\n",
              "\n",
              "#sk-container-id-3 div.sk-parallel-item:last-child::after {\n",
              "  align-self: flex-start;\n",
              "  width: 50%;\n",
              "}\n",
              "\n",
              "#sk-container-id-3 div.sk-parallel-item:only-child::after {\n",
              "  width: 0;\n",
              "}\n",
              "\n",
              "/* Serial-specific style estimator block */\n",
              "\n",
              "#sk-container-id-3 div.sk-serial {\n",
              "  display: flex;\n",
              "  flex-direction: column;\n",
              "  align-items: center;\n",
              "  background-color: var(--sklearn-color-background);\n",
              "  padding-right: 1em;\n",
              "  padding-left: 1em;\n",
              "}\n",
              "\n",
              "\n",
              "/* Toggleable style: style used for estimator/Pipeline/ColumnTransformer box that is\n",
              "clickable and can be expanded/collapsed.\n",
              "- Pipeline and ColumnTransformer use this feature and define the default style\n",
              "- Estimators will overwrite some part of the style using the `sk-estimator` class\n",
              "*/\n",
              "\n",
              "/* Pipeline and ColumnTransformer style (default) */\n",
              "\n",
              "#sk-container-id-3 div.sk-toggleable {\n",
              "  /* Default theme specific background. It is overwritten whether we have a\n",
              "  specific estimator or a Pipeline/ColumnTransformer */\n",
              "  background-color: var(--sklearn-color-background);\n",
              "}\n",
              "\n",
              "/* Toggleable label */\n",
              "#sk-container-id-3 label.sk-toggleable__label {\n",
              "  cursor: pointer;\n",
              "  display: flex;\n",
              "  width: 100%;\n",
              "  margin-bottom: 0;\n",
              "  padding: 0.5em;\n",
              "  box-sizing: border-box;\n",
              "  text-align: center;\n",
              "  align-items: start;\n",
              "  justify-content: space-between;\n",
              "  gap: 0.5em;\n",
              "}\n",
              "\n",
              "#sk-container-id-3 label.sk-toggleable__label .caption {\n",
              "  font-size: 0.6rem;\n",
              "  font-weight: lighter;\n",
              "  color: var(--sklearn-color-text-muted);\n",
              "}\n",
              "\n",
              "#sk-container-id-3 label.sk-toggleable__label-arrow:before {\n",
              "  /* Arrow on the left of the label */\n",
              "  content: \"▸\";\n",
              "  float: left;\n",
              "  margin-right: 0.25em;\n",
              "  color: var(--sklearn-color-icon);\n",
              "}\n",
              "\n",
              "#sk-container-id-3 label.sk-toggleable__label-arrow:hover:before {\n",
              "  color: var(--sklearn-color-text);\n",
              "}\n",
              "\n",
              "/* Toggleable content - dropdown */\n",
              "\n",
              "#sk-container-id-3 div.sk-toggleable__content {\n",
              "  max-height: 0;\n",
              "  max-width: 0;\n",
              "  overflow: hidden;\n",
              "  text-align: left;\n",
              "  /* unfitted */\n",
              "  background-color: var(--sklearn-color-unfitted-level-0);\n",
              "}\n",
              "\n",
              "#sk-container-id-3 div.sk-toggleable__content.fitted {\n",
              "  /* fitted */\n",
              "  background-color: var(--sklearn-color-fitted-level-0);\n",
              "}\n",
              "\n",
              "#sk-container-id-3 div.sk-toggleable__content pre {\n",
              "  margin: 0.2em;\n",
              "  border-radius: 0.25em;\n",
              "  color: var(--sklearn-color-text);\n",
              "  /* unfitted */\n",
              "  background-color: var(--sklearn-color-unfitted-level-0);\n",
              "}\n",
              "\n",
              "#sk-container-id-3 div.sk-toggleable__content.fitted pre {\n",
              "  /* unfitted */\n",
              "  background-color: var(--sklearn-color-fitted-level-0);\n",
              "}\n",
              "\n",
              "#sk-container-id-3 input.sk-toggleable__control:checked~div.sk-toggleable__content {\n",
              "  /* Expand drop-down */\n",
              "  max-height: 200px;\n",
              "  max-width: 100%;\n",
              "  overflow: auto;\n",
              "}\n",
              "\n",
              "#sk-container-id-3 input.sk-toggleable__control:checked~label.sk-toggleable__label-arrow:before {\n",
              "  content: \"▾\";\n",
              "}\n",
              "\n",
              "/* Pipeline/ColumnTransformer-specific style */\n",
              "\n",
              "#sk-container-id-3 div.sk-label input.sk-toggleable__control:checked~label.sk-toggleable__label {\n",
              "  color: var(--sklearn-color-text);\n",
              "  background-color: var(--sklearn-color-unfitted-level-2);\n",
              "}\n",
              "\n",
              "#sk-container-id-3 div.sk-label.fitted input.sk-toggleable__control:checked~label.sk-toggleable__label {\n",
              "  background-color: var(--sklearn-color-fitted-level-2);\n",
              "}\n",
              "\n",
              "/* Estimator-specific style */\n",
              "\n",
              "/* Colorize estimator box */\n",
              "#sk-container-id-3 div.sk-estimator input.sk-toggleable__control:checked~label.sk-toggleable__label {\n",
              "  /* unfitted */\n",
              "  background-color: var(--sklearn-color-unfitted-level-2);\n",
              "}\n",
              "\n",
              "#sk-container-id-3 div.sk-estimator.fitted input.sk-toggleable__control:checked~label.sk-toggleable__label {\n",
              "  /* fitted */\n",
              "  background-color: var(--sklearn-color-fitted-level-2);\n",
              "}\n",
              "\n",
              "#sk-container-id-3 div.sk-label label.sk-toggleable__label,\n",
              "#sk-container-id-3 div.sk-label label {\n",
              "  /* The background is the default theme color */\n",
              "  color: var(--sklearn-color-text-on-default-background);\n",
              "}\n",
              "\n",
              "/* On hover, darken the color of the background */\n",
              "#sk-container-id-3 div.sk-label:hover label.sk-toggleable__label {\n",
              "  color: var(--sklearn-color-text);\n",
              "  background-color: var(--sklearn-color-unfitted-level-2);\n",
              "}\n",
              "\n",
              "/* Label box, darken color on hover, fitted */\n",
              "#sk-container-id-3 div.sk-label.fitted:hover label.sk-toggleable__label.fitted {\n",
              "  color: var(--sklearn-color-text);\n",
              "  background-color: var(--sklearn-color-fitted-level-2);\n",
              "}\n",
              "\n",
              "/* Estimator label */\n",
              "\n",
              "#sk-container-id-3 div.sk-label label {\n",
              "  font-family: monospace;\n",
              "  font-weight: bold;\n",
              "  display: inline-block;\n",
              "  line-height: 1.2em;\n",
              "}\n",
              "\n",
              "#sk-container-id-3 div.sk-label-container {\n",
              "  text-align: center;\n",
              "}\n",
              "\n",
              "/* Estimator-specific */\n",
              "#sk-container-id-3 div.sk-estimator {\n",
              "  font-family: monospace;\n",
              "  border: 1px dotted var(--sklearn-color-border-box);\n",
              "  border-radius: 0.25em;\n",
              "  box-sizing: border-box;\n",
              "  margin-bottom: 0.5em;\n",
              "  /* unfitted */\n",
              "  background-color: var(--sklearn-color-unfitted-level-0);\n",
              "}\n",
              "\n",
              "#sk-container-id-3 div.sk-estimator.fitted {\n",
              "  /* fitted */\n",
              "  background-color: var(--sklearn-color-fitted-level-0);\n",
              "}\n",
              "\n",
              "/* on hover */\n",
              "#sk-container-id-3 div.sk-estimator:hover {\n",
              "  /* unfitted */\n",
              "  background-color: var(--sklearn-color-unfitted-level-2);\n",
              "}\n",
              "\n",
              "#sk-container-id-3 div.sk-estimator.fitted:hover {\n",
              "  /* fitted */\n",
              "  background-color: var(--sklearn-color-fitted-level-2);\n",
              "}\n",
              "\n",
              "/* Specification for estimator info (e.g. \"i\" and \"?\") */\n",
              "\n",
              "/* Common style for \"i\" and \"?\" */\n",
              "\n",
              ".sk-estimator-doc-link,\n",
              "a:link.sk-estimator-doc-link,\n",
              "a:visited.sk-estimator-doc-link {\n",
              "  float: right;\n",
              "  font-size: smaller;\n",
              "  line-height: 1em;\n",
              "  font-family: monospace;\n",
              "  background-color: var(--sklearn-color-background);\n",
              "  border-radius: 1em;\n",
              "  height: 1em;\n",
              "  width: 1em;\n",
              "  text-decoration: none !important;\n",
              "  margin-left: 0.5em;\n",
              "  text-align: center;\n",
              "  /* unfitted */\n",
              "  border: var(--sklearn-color-unfitted-level-1) 1pt solid;\n",
              "  color: var(--sklearn-color-unfitted-level-1);\n",
              "}\n",
              "\n",
              ".sk-estimator-doc-link.fitted,\n",
              "a:link.sk-estimator-doc-link.fitted,\n",
              "a:visited.sk-estimator-doc-link.fitted {\n",
              "  /* fitted */\n",
              "  border: var(--sklearn-color-fitted-level-1) 1pt solid;\n",
              "  color: var(--sklearn-color-fitted-level-1);\n",
              "}\n",
              "\n",
              "/* On hover */\n",
              "div.sk-estimator:hover .sk-estimator-doc-link:hover,\n",
              ".sk-estimator-doc-link:hover,\n",
              "div.sk-label-container:hover .sk-estimator-doc-link:hover,\n",
              ".sk-estimator-doc-link:hover {\n",
              "  /* unfitted */\n",
              "  background-color: var(--sklearn-color-unfitted-level-3);\n",
              "  color: var(--sklearn-color-background);\n",
              "  text-decoration: none;\n",
              "}\n",
              "\n",
              "div.sk-estimator.fitted:hover .sk-estimator-doc-link.fitted:hover,\n",
              ".sk-estimator-doc-link.fitted:hover,\n",
              "div.sk-label-container:hover .sk-estimator-doc-link.fitted:hover,\n",
              ".sk-estimator-doc-link.fitted:hover {\n",
              "  /* fitted */\n",
              "  background-color: var(--sklearn-color-fitted-level-3);\n",
              "  color: var(--sklearn-color-background);\n",
              "  text-decoration: none;\n",
              "}\n",
              "\n",
              "/* Span, style for the box shown on hovering the info icon */\n",
              ".sk-estimator-doc-link span {\n",
              "  display: none;\n",
              "  z-index: 9999;\n",
              "  position: relative;\n",
              "  font-weight: normal;\n",
              "  right: .2ex;\n",
              "  padding: .5ex;\n",
              "  margin: .5ex;\n",
              "  width: min-content;\n",
              "  min-width: 20ex;\n",
              "  max-width: 50ex;\n",
              "  color: var(--sklearn-color-text);\n",
              "  box-shadow: 2pt 2pt 4pt #999;\n",
              "  /* unfitted */\n",
              "  background: var(--sklearn-color-unfitted-level-0);\n",
              "  border: .5pt solid var(--sklearn-color-unfitted-level-3);\n",
              "}\n",
              "\n",
              ".sk-estimator-doc-link.fitted span {\n",
              "  /* fitted */\n",
              "  background: var(--sklearn-color-fitted-level-0);\n",
              "  border: var(--sklearn-color-fitted-level-3);\n",
              "}\n",
              "\n",
              ".sk-estimator-doc-link:hover span {\n",
              "  display: block;\n",
              "}\n",
              "\n",
              "/* \"?\"-specific style due to the `<a>` HTML tag */\n",
              "\n",
              "#sk-container-id-3 a.estimator_doc_link {\n",
              "  float: right;\n",
              "  font-size: 1rem;\n",
              "  line-height: 1em;\n",
              "  font-family: monospace;\n",
              "  background-color: var(--sklearn-color-background);\n",
              "  border-radius: 1rem;\n",
              "  height: 1rem;\n",
              "  width: 1rem;\n",
              "  text-decoration: none;\n",
              "  /* unfitted */\n",
              "  color: var(--sklearn-color-unfitted-level-1);\n",
              "  border: var(--sklearn-color-unfitted-level-1) 1pt solid;\n",
              "}\n",
              "\n",
              "#sk-container-id-3 a.estimator_doc_link.fitted {\n",
              "  /* fitted */\n",
              "  border: var(--sklearn-color-fitted-level-1) 1pt solid;\n",
              "  color: var(--sklearn-color-fitted-level-1);\n",
              "}\n",
              "\n",
              "/* On hover */\n",
              "#sk-container-id-3 a.estimator_doc_link:hover {\n",
              "  /* unfitted */\n",
              "  background-color: var(--sklearn-color-unfitted-level-3);\n",
              "  color: var(--sklearn-color-background);\n",
              "  text-decoration: none;\n",
              "}\n",
              "\n",
              "#sk-container-id-3 a.estimator_doc_link.fitted:hover {\n",
              "  /* fitted */\n",
              "  background-color: var(--sklearn-color-fitted-level-3);\n",
              "}\n",
              "</style><div id=\"sk-container-id-3\" class=\"sk-top-container\"><div class=\"sk-text-repr-fallback\"><pre>XGBClassifier(base_score=None, booster=None, callbacks=None,\n",
              "              colsample_bylevel=None, colsample_bynode=None,\n",
              "              colsample_bytree=None, device=None, early_stopping_rounds=None,\n",
              "              enable_categorical=False, eval_metric=&#x27;logloss&#x27;,\n",
              "              feature_types=None, gamma=None, grow_policy=None,\n",
              "              importance_type=None, interaction_constraints=None,\n",
              "              learning_rate=None, max_bin=None, max_cat_threshold=None,\n",
              "              max_cat_to_onehot=None, max_delta_step=None, max_depth=None,\n",
              "              max_leaves=None, min_child_weight=None, missing=nan,\n",
              "              monotone_constraints=None, multi_strategy=None, n_estimators=None,\n",
              "              n_jobs=None, num_parallel_tree=None, random_state=42, ...)</pre><b>In a Jupyter environment, please rerun this cell to show the HTML representation or trust the notebook. <br />On GitHub, the HTML representation is unable to render, please try loading this page with nbviewer.org.</b></div><div class=\"sk-container\" hidden><div class=\"sk-item\"><div class=\"sk-estimator fitted sk-toggleable\"><input class=\"sk-toggleable__control sk-hidden--visually\" id=\"sk-estimator-id-3\" type=\"checkbox\" checked><label for=\"sk-estimator-id-3\" class=\"sk-toggleable__label fitted sk-toggleable__label-arrow\"><div><div>XGBClassifier</div></div><div><span class=\"sk-estimator-doc-link fitted\">i<span>Fitted</span></span></div></label><div class=\"sk-toggleable__content fitted\"><pre>XGBClassifier(base_score=None, booster=None, callbacks=None,\n",
              "              colsample_bylevel=None, colsample_bynode=None,\n",
              "              colsample_bytree=None, device=None, early_stopping_rounds=None,\n",
              "              enable_categorical=False, eval_metric=&#x27;logloss&#x27;,\n",
              "              feature_types=None, gamma=None, grow_policy=None,\n",
              "              importance_type=None, interaction_constraints=None,\n",
              "              learning_rate=None, max_bin=None, max_cat_threshold=None,\n",
              "              max_cat_to_onehot=None, max_delta_step=None, max_depth=None,\n",
              "              max_leaves=None, min_child_weight=None, missing=nan,\n",
              "              monotone_constraints=None, multi_strategy=None, n_estimators=None,\n",
              "              n_jobs=None, num_parallel_tree=None, random_state=42, ...)</pre></div> </div></div></div></div>"
            ]
          },
          "metadata": {},
          "execution_count": 50
        }
      ]
    },
    {
      "cell_type": "code",
      "source": [
        "# Predict on untouched validation set\n",
        "y_val_pred = xgb_model.predict(X_val)\n"
      ],
      "metadata": {
        "id": "2FfeZBZhMfDd"
      },
      "execution_count": null,
      "outputs": []
    },
    {
      "cell_type": "code",
      "source": [
        "from sklearn.metrics import confusion_matrix, f1_score, precision_score, classification_report\n",
        "\n",
        "print(\"Confusion Matrix:\")\n",
        "print(confusion_matrix(y_val, y_val_pred))\n",
        "\n",
        "print(\"\\nF1 Score:\", f1_score(y_val, y_val_pred, average='weighted'))  # or 'macro'\n",
        "print(\"Precision:\", precision_score(y_val, y_val_pred, average='weighted'))\n",
        "\n",
        "print(\"\\nClassification Report:\")\n",
        "print(classification_report(y_val, y_val_pred))\n"
      ],
      "metadata": {
        "colab": {
          "base_uri": "https://localhost:8080/"
        },
        "id": "tULsYiWmMimF",
        "outputId": "247febc0-b071-498d-b71a-caec92576faa"
      },
      "execution_count": null,
      "outputs": [
        {
          "output_type": "stream",
          "name": "stdout",
          "text": [
            "Confusion Matrix:\n",
            "[[282  46]\n",
            " [ 46  17]]\n",
            "\n",
            "F1 Score: 0.7647058823529411\n",
            "Precision: 0.7647058823529411\n",
            "\n",
            "Classification Report:\n",
            "              precision    recall  f1-score   support\n",
            "\n",
            "         0.0       0.86      0.86      0.86       328\n",
            "         1.0       0.27      0.27      0.27        63\n",
            "\n",
            "    accuracy                           0.76       391\n",
            "   macro avg       0.56      0.56      0.56       391\n",
            "weighted avg       0.76      0.76      0.76       391\n",
            "\n"
          ]
        }
      ]
    },
    {
      "cell_type": "code",
      "source": [
        "# Calculate ratio\n",
        "import numpy as np\n",
        "neg, pos = np.bincount(y_train)\n",
        "ratio = neg / pos\n",
        "\n",
        "xgb_model = XGBClassifier(\n",
        "    objective='binary:logistic',\n",
        "    scale_pos_weight=ratio,\n",
        "    eval_metric='logloss',\n",
        "    use_label_encoder=False,\n",
        "    random_state=42\n",
        ")\n",
        "\n",
        "xgb_model.fit(X_train, y_train)\n",
        "y_pred = xgb_model.predict(X_val)\n",
        "\n",
        "# Evaluation\n",
        "from sklearn.metrics import classification_report\n",
        "print(classification_report(y_val, y_pred))\n"
      ],
      "metadata": {
        "colab": {
          "base_uri": "https://localhost:8080/"
        },
        "id": "72mWHoTLNO8V",
        "outputId": "3622bd15-6e48-49b9-9ba7-809054c51062"
      },
      "execution_count": null,
      "outputs": [
        {
          "output_type": "stream",
          "name": "stdout",
          "text": [
            "              precision    recall  f1-score   support\n",
            "\n",
            "         0.0       0.85      0.90      0.88       328\n",
            "         1.0       0.28      0.21      0.24        63\n",
            "\n",
            "    accuracy                           0.79       391\n",
            "   macro avg       0.57      0.55      0.56       391\n",
            "weighted avg       0.76      0.79      0.77       391\n",
            "\n"
          ]
        },
        {
          "output_type": "stream",
          "name": "stderr",
          "text": [
            "/usr/local/lib/python3.11/dist-packages/xgboost/core.py:158: UserWarning: [04:09:26] WARNING: /workspace/src/learner.cc:740: \n",
            "Parameters: { \"use_label_encoder\" } are not used.\n",
            "\n",
            "  warnings.warn(smsg, UserWarning)\n"
          ]
        }
      ]
    },
    {
      "cell_type": "code",
      "source": [
        "from sklearn.model_selection import RandomizedSearchCV\n",
        "from xgboost import XGBClassifier\n",
        "from sklearn.metrics import make_scorer, f1_score\n",
        "\n",
        "# Create model\n",
        "xgb_base = XGBClassifier(\n",
        "    objective='binary:logistic',\n",
        "    scale_pos_weight=ratio,   # keep this!\n",
        "    eval_metric='logloss',\n",
        "    use_label_encoder=False,\n",
        "    random_state=42\n",
        ")\n",
        "\n",
        "# Define param grid\n",
        "param_dist = {\n",
        "    'n_estimators': [100, 200, 300, 500],\n",
        "    'max_depth': [3, 4, 5, 6, 7],\n",
        "    'learning_rate': [0.01, 0.05, 0.1, 0.2],\n",
        "    'subsample': [0.6, 0.8, 1.0],\n",
        "    'colsample_bytree': [0.6, 0.8, 1.0]\n",
        "}\n",
        "\n",
        "# Use F1-weighted as scoring\n",
        "f1_weighted = make_scorer(f1_score, average='weighted')\n",
        "\n",
        "# Run RandomizedSearchCV\n",
        "rs = RandomizedSearchCV(\n",
        "    estimator=xgb_base,\n",
        "    param_distributions=param_dist,\n",
        "    n_iter=20,  # number of combinations to try\n",
        "    scoring=f1_weighted,\n",
        "    cv=3,\n",
        "    verbose=1,\n",
        "    n_jobs=-1\n",
        ")\n",
        "\n",
        "rs.fit(X_train, y_train)\n",
        "\n",
        "# Best model\n",
        "best_model = rs.best_estimator_\n",
        "\n",
        "# Predict & evaluate\n",
        "y_pred = best_model.predict(X_val)\n",
        "print(classification_report(y_val, y_pred))\n"
      ],
      "metadata": {
        "colab": {
          "base_uri": "https://localhost:8080/"
        },
        "id": "wCXjxFnxOVtP",
        "outputId": "7374c5c8-ef9a-4eca-c9a2-17e6f3d9fb14"
      },
      "execution_count": null,
      "outputs": [
        {
          "output_type": "stream",
          "name": "stdout",
          "text": [
            "Fitting 3 folds for each of 20 candidates, totalling 60 fits\n"
          ]
        },
        {
          "output_type": "stream",
          "name": "stderr",
          "text": [
            "/usr/local/lib/python3.11/dist-packages/xgboost/core.py:158: UserWarning: [04:09:47] WARNING: /workspace/src/learner.cc:740: \n",
            "Parameters: { \"use_label_encoder\" } are not used.\n",
            "\n",
            "  warnings.warn(smsg, UserWarning)\n"
          ]
        },
        {
          "output_type": "stream",
          "name": "stdout",
          "text": [
            "              precision    recall  f1-score   support\n",
            "\n",
            "         0.0       0.86      0.91      0.88       328\n",
            "         1.0       0.31      0.21      0.25        63\n",
            "\n",
            "    accuracy                           0.80       391\n",
            "   macro avg       0.58      0.56      0.57       391\n",
            "weighted avg       0.77      0.80      0.78       391\n",
            "\n"
          ]
        }
      ]
    },
    {
      "cell_type": "code",
      "source": [
        "from google.colab import files\n",
        "uploaded = files.upload()\n"
      ],
      "metadata": {
        "colab": {
          "base_uri": "https://localhost:8080/",
          "height": 73
        },
        "id": "NixKWBwdQIAa",
        "outputId": "1ab2a21e-05ba-442e-e249-a353bc1b97fd"
      },
      "execution_count": null,
      "outputs": [
        {
          "output_type": "display_data",
          "data": {
            "text/plain": [
              "<IPython.core.display.HTML object>"
            ],
            "text/html": [
              "\n",
              "     <input type=\"file\" id=\"files-644e54da-3ee9-4305-b146-47d4c6480e29\" name=\"files[]\" multiple disabled\n",
              "        style=\"border:none\" />\n",
              "     <output id=\"result-644e54da-3ee9-4305-b146-47d4c6480e29\">\n",
              "      Upload widget is only available when the cell has been executed in the\n",
              "      current browser session. Please rerun this cell to enable.\n",
              "      </output>\n",
              "      <script>// Copyright 2017 Google LLC\n",
              "//\n",
              "// Licensed under the Apache License, Version 2.0 (the \"License\");\n",
              "// you may not use this file except in compliance with the License.\n",
              "// You may obtain a copy of the License at\n",
              "//\n",
              "//      http://www.apache.org/licenses/LICENSE-2.0\n",
              "//\n",
              "// Unless required by applicable law or agreed to in writing, software\n",
              "// distributed under the License is distributed on an \"AS IS\" BASIS,\n",
              "// WITHOUT WARRANTIES OR CONDITIONS OF ANY KIND, either express or implied.\n",
              "// See the License for the specific language governing permissions and\n",
              "// limitations under the License.\n",
              "\n",
              "/**\n",
              " * @fileoverview Helpers for google.colab Python module.\n",
              " */\n",
              "(function(scope) {\n",
              "function span(text, styleAttributes = {}) {\n",
              "  const element = document.createElement('span');\n",
              "  element.textContent = text;\n",
              "  for (const key of Object.keys(styleAttributes)) {\n",
              "    element.style[key] = styleAttributes[key];\n",
              "  }\n",
              "  return element;\n",
              "}\n",
              "\n",
              "// Max number of bytes which will be uploaded at a time.\n",
              "const MAX_PAYLOAD_SIZE = 100 * 1024;\n",
              "\n",
              "function _uploadFiles(inputId, outputId) {\n",
              "  const steps = uploadFilesStep(inputId, outputId);\n",
              "  const outputElement = document.getElementById(outputId);\n",
              "  // Cache steps on the outputElement to make it available for the next call\n",
              "  // to uploadFilesContinue from Python.\n",
              "  outputElement.steps = steps;\n",
              "\n",
              "  return _uploadFilesContinue(outputId);\n",
              "}\n",
              "\n",
              "// This is roughly an async generator (not supported in the browser yet),\n",
              "// where there are multiple asynchronous steps and the Python side is going\n",
              "// to poll for completion of each step.\n",
              "// This uses a Promise to block the python side on completion of each step,\n",
              "// then passes the result of the previous step as the input to the next step.\n",
              "function _uploadFilesContinue(outputId) {\n",
              "  const outputElement = document.getElementById(outputId);\n",
              "  const steps = outputElement.steps;\n",
              "\n",
              "  const next = steps.next(outputElement.lastPromiseValue);\n",
              "  return Promise.resolve(next.value.promise).then((value) => {\n",
              "    // Cache the last promise value to make it available to the next\n",
              "    // step of the generator.\n",
              "    outputElement.lastPromiseValue = value;\n",
              "    return next.value.response;\n",
              "  });\n",
              "}\n",
              "\n",
              "/**\n",
              " * Generator function which is called between each async step of the upload\n",
              " * process.\n",
              " * @param {string} inputId Element ID of the input file picker element.\n",
              " * @param {string} outputId Element ID of the output display.\n",
              " * @return {!Iterable<!Object>} Iterable of next steps.\n",
              " */\n",
              "function* uploadFilesStep(inputId, outputId) {\n",
              "  const inputElement = document.getElementById(inputId);\n",
              "  inputElement.disabled = false;\n",
              "\n",
              "  const outputElement = document.getElementById(outputId);\n",
              "  outputElement.innerHTML = '';\n",
              "\n",
              "  const pickedPromise = new Promise((resolve) => {\n",
              "    inputElement.addEventListener('change', (e) => {\n",
              "      resolve(e.target.files);\n",
              "    });\n",
              "  });\n",
              "\n",
              "  const cancel = document.createElement('button');\n",
              "  inputElement.parentElement.appendChild(cancel);\n",
              "  cancel.textContent = 'Cancel upload';\n",
              "  const cancelPromise = new Promise((resolve) => {\n",
              "    cancel.onclick = () => {\n",
              "      resolve(null);\n",
              "    };\n",
              "  });\n",
              "\n",
              "  // Wait for the user to pick the files.\n",
              "  const files = yield {\n",
              "    promise: Promise.race([pickedPromise, cancelPromise]),\n",
              "    response: {\n",
              "      action: 'starting',\n",
              "    }\n",
              "  };\n",
              "\n",
              "  cancel.remove();\n",
              "\n",
              "  // Disable the input element since further picks are not allowed.\n",
              "  inputElement.disabled = true;\n",
              "\n",
              "  if (!files) {\n",
              "    return {\n",
              "      response: {\n",
              "        action: 'complete',\n",
              "      }\n",
              "    };\n",
              "  }\n",
              "\n",
              "  for (const file of files) {\n",
              "    const li = document.createElement('li');\n",
              "    li.append(span(file.name, {fontWeight: 'bold'}));\n",
              "    li.append(span(\n",
              "        `(${file.type || 'n/a'}) - ${file.size} bytes, ` +\n",
              "        `last modified: ${\n",
              "            file.lastModifiedDate ? file.lastModifiedDate.toLocaleDateString() :\n",
              "                                    'n/a'} - `));\n",
              "    const percent = span('0% done');\n",
              "    li.appendChild(percent);\n",
              "\n",
              "    outputElement.appendChild(li);\n",
              "\n",
              "    const fileDataPromise = new Promise((resolve) => {\n",
              "      const reader = new FileReader();\n",
              "      reader.onload = (e) => {\n",
              "        resolve(e.target.result);\n",
              "      };\n",
              "      reader.readAsArrayBuffer(file);\n",
              "    });\n",
              "    // Wait for the data to be ready.\n",
              "    let fileData = yield {\n",
              "      promise: fileDataPromise,\n",
              "      response: {\n",
              "        action: 'continue',\n",
              "      }\n",
              "    };\n",
              "\n",
              "    // Use a chunked sending to avoid message size limits. See b/62115660.\n",
              "    let position = 0;\n",
              "    do {\n",
              "      const length = Math.min(fileData.byteLength - position, MAX_PAYLOAD_SIZE);\n",
              "      const chunk = new Uint8Array(fileData, position, length);\n",
              "      position += length;\n",
              "\n",
              "      const base64 = btoa(String.fromCharCode.apply(null, chunk));\n",
              "      yield {\n",
              "        response: {\n",
              "          action: 'append',\n",
              "          file: file.name,\n",
              "          data: base64,\n",
              "        },\n",
              "      };\n",
              "\n",
              "      let percentDone = fileData.byteLength === 0 ?\n",
              "          100 :\n",
              "          Math.round((position / fileData.byteLength) * 100);\n",
              "      percent.textContent = `${percentDone}% done`;\n",
              "\n",
              "    } while (position < fileData.byteLength);\n",
              "  }\n",
              "\n",
              "  // All done.\n",
              "  yield {\n",
              "    response: {\n",
              "      action: 'complete',\n",
              "    }\n",
              "  };\n",
              "}\n",
              "\n",
              "scope.google = scope.google || {};\n",
              "scope.google.colab = scope.google.colab || {};\n",
              "scope.google.colab._files = {\n",
              "  _uploadFiles,\n",
              "  _uploadFilesContinue,\n",
              "};\n",
              "})(self);\n",
              "</script> "
            ]
          },
          "metadata": {}
        },
        {
          "output_type": "stream",
          "name": "stdout",
          "text": [
            "Saving Test_Data.csv to Test_Data.csv\n"
          ]
        }
      ]
    },
    {
      "cell_type": "code",
      "source": [
        "import pandas as pd\n",
        "\n",
        "# Load raw test data\n",
        "test_df = pd.read_csv(\"Test_Data.csv\")\n",
        "\n",
        "# View first few rows\n",
        "print(test_df.head())\n"
      ],
      "metadata": {
        "colab": {
          "base_uri": "https://localhost:8080/"
        },
        "id": "qnfG7BcIU1bJ",
        "outputId": "f3846fa4-b361-491a-e0fd-e6ae78757561"
      },
      "execution_count": null,
      "outputs": [
        {
          "output_type": "stream",
          "name": "stdout",
          "text": [
            "      SEQN  RIAGENDR  PAQ605  BMXBMI  LBXGLU  DIQ010  LBXGLT  LBXIN\n",
            "0  77017.0       1.0     1.0    32.2    96.0     2.0   135.0  15.11\n",
            "1  75580.0       2.0     2.0    26.3   100.0     2.0   141.0  15.26\n",
            "2  73820.0       1.0     2.0    28.6   107.0     2.0   136.0   8.82\n",
            "3  80489.0       2.0     1.0    22.1    93.0     2.0   111.0  12.13\n",
            "4  82047.0       1.0     1.0    24.7    91.0     2.0   105.0   3.12\n"
          ]
        }
      ]
    },
    {
      "cell_type": "code",
      "source": [
        "from sklearn.impute import KNNImputer\n",
        "from sklearn.preprocessing import LabelEncoder\n",
        "import pandas as pd\n",
        "\n",
        "# Save SEQN from test set\n",
        "test_seqn = test_df[\"SEQN\"]\n",
        "\n",
        "# Drop SEQN from both train and test\n",
        "\n",
        "test_df = test_df.drop(columns=[\"SEQN\"])\n",
        "\n",
        "# Separate features and target\n",
        "X_train = train_df.drop(columns=[\"age_group\"])\n",
        "y_train = train_df[\"age_group\"]\n",
        "\n",
        "# Encode target\n",
        "target_encoder = LabelEncoder()\n",
        "y_train_encoded = target_encoder.fit_transform(y_train)\n",
        "\n",
        "# Imputation (choose one method: KNN or Iterative)\n",
        "imputer = KNNImputer(n_neighbors=5)  # or use IterativeImputer\n",
        "X_train_imputed = imputer.fit_transform(X_train)\n",
        "X_test_imputed = imputer.transform(test_df)\n",
        "\n",
        "# Reconstruct DataFrames\n",
        "X_train = pd.DataFrame(X_train_imputed, columns=X_train.columns)\n",
        "X_test = pd.DataFrame(X_test_imputed, columns=X_train.columns)  # match training order\n",
        "\n",
        "# If categorical features were label-encoded before, apply those encoders here\n",
        "# Example:\n",
        "# label_encoders = {'RIAGENDR': le1, 'PAQ605': le2, ...}\n",
        "# for col, le in label_encoders.items():\n",
        "#     X_test[col] = le.transform(X_test[col])\n",
        "\n",
        "# Save back SEQN for final submission\n",
        "X_test[\"SEQN\"] = test_seqn.values\n",
        "\n",
        "# Final X_train, y_train_encoded and X_test are ready\n"
      ],
      "metadata": {
        "colab": {
          "base_uri": "https://localhost:8080/",
          "height": 547
        },
        "id": "un9fOim8U6bK",
        "outputId": "89c70b71-62d7-4dc4-d128-c6e923617609"
      },
      "execution_count": null,
      "outputs": [
        {
          "output_type": "error",
          "ename": "KeyError",
          "evalue": "'SEQN'",
          "traceback": [
            "\u001b[0;31m---------------------------------------------------------------------------\u001b[0m",
            "\u001b[0;31mKeyError\u001b[0m                                  Traceback (most recent call last)",
            "\u001b[0;32m/usr/local/lib/python3.11/dist-packages/pandas/core/indexes/base.py\u001b[0m in \u001b[0;36mget_loc\u001b[0;34m(self, key)\u001b[0m\n\u001b[1;32m   3804\u001b[0m         \u001b[0;32mtry\u001b[0m\u001b[0;34m:\u001b[0m\u001b[0;34m\u001b[0m\u001b[0;34m\u001b[0m\u001b[0m\n\u001b[0;32m-> 3805\u001b[0;31m             \u001b[0;32mreturn\u001b[0m \u001b[0mself\u001b[0m\u001b[0;34m.\u001b[0m\u001b[0m_engine\u001b[0m\u001b[0;34m.\u001b[0m\u001b[0mget_loc\u001b[0m\u001b[0;34m(\u001b[0m\u001b[0mcasted_key\u001b[0m\u001b[0;34m)\u001b[0m\u001b[0;34m\u001b[0m\u001b[0;34m\u001b[0m\u001b[0m\n\u001b[0m\u001b[1;32m   3806\u001b[0m         \u001b[0;32mexcept\u001b[0m \u001b[0mKeyError\u001b[0m \u001b[0;32mas\u001b[0m \u001b[0merr\u001b[0m\u001b[0;34m:\u001b[0m\u001b[0;34m\u001b[0m\u001b[0;34m\u001b[0m\u001b[0m\n",
            "\u001b[0;32mindex.pyx\u001b[0m in \u001b[0;36mpandas._libs.index.IndexEngine.get_loc\u001b[0;34m()\u001b[0m\n",
            "\u001b[0;32mindex.pyx\u001b[0m in \u001b[0;36mpandas._libs.index.IndexEngine.get_loc\u001b[0;34m()\u001b[0m\n",
            "\u001b[0;32mpandas/_libs/hashtable_class_helper.pxi\u001b[0m in \u001b[0;36mpandas._libs.hashtable.PyObjectHashTable.get_item\u001b[0;34m()\u001b[0m\n",
            "\u001b[0;32mpandas/_libs/hashtable_class_helper.pxi\u001b[0m in \u001b[0;36mpandas._libs.hashtable.PyObjectHashTable.get_item\u001b[0;34m()\u001b[0m\n",
            "\u001b[0;31mKeyError\u001b[0m: 'SEQN'",
            "\nThe above exception was the direct cause of the following exception:\n",
            "\u001b[0;31mKeyError\u001b[0m                                  Traceback (most recent call last)",
            "\u001b[0;32m/tmp/ipython-input-78-3036812739.py\u001b[0m in \u001b[0;36m<cell line: 0>\u001b[0;34m()\u001b[0m\n\u001b[1;32m      4\u001b[0m \u001b[0;34m\u001b[0m\u001b[0m\n\u001b[1;32m      5\u001b[0m \u001b[0;31m# Save SEQN from test set\u001b[0m\u001b[0;34m\u001b[0m\u001b[0;34m\u001b[0m\u001b[0m\n\u001b[0;32m----> 6\u001b[0;31m \u001b[0mtest_seqn\u001b[0m \u001b[0;34m=\u001b[0m \u001b[0mtest_df\u001b[0m\u001b[0;34m[\u001b[0m\u001b[0;34m\"SEQN\"\u001b[0m\u001b[0;34m]\u001b[0m\u001b[0;34m\u001b[0m\u001b[0;34m\u001b[0m\u001b[0m\n\u001b[0m\u001b[1;32m      7\u001b[0m \u001b[0;34m\u001b[0m\u001b[0m\n\u001b[1;32m      8\u001b[0m \u001b[0;31m# Drop SEQN from both train and test\u001b[0m\u001b[0;34m\u001b[0m\u001b[0;34m\u001b[0m\u001b[0m\n",
            "\u001b[0;32m/usr/local/lib/python3.11/dist-packages/pandas/core/frame.py\u001b[0m in \u001b[0;36m__getitem__\u001b[0;34m(self, key)\u001b[0m\n\u001b[1;32m   4100\u001b[0m             \u001b[0;32mif\u001b[0m \u001b[0mself\u001b[0m\u001b[0;34m.\u001b[0m\u001b[0mcolumns\u001b[0m\u001b[0;34m.\u001b[0m\u001b[0mnlevels\u001b[0m \u001b[0;34m>\u001b[0m \u001b[0;36m1\u001b[0m\u001b[0;34m:\u001b[0m\u001b[0;34m\u001b[0m\u001b[0;34m\u001b[0m\u001b[0m\n\u001b[1;32m   4101\u001b[0m                 \u001b[0;32mreturn\u001b[0m \u001b[0mself\u001b[0m\u001b[0;34m.\u001b[0m\u001b[0m_getitem_multilevel\u001b[0m\u001b[0;34m(\u001b[0m\u001b[0mkey\u001b[0m\u001b[0;34m)\u001b[0m\u001b[0;34m\u001b[0m\u001b[0;34m\u001b[0m\u001b[0m\n\u001b[0;32m-> 4102\u001b[0;31m             \u001b[0mindexer\u001b[0m \u001b[0;34m=\u001b[0m \u001b[0mself\u001b[0m\u001b[0;34m.\u001b[0m\u001b[0mcolumns\u001b[0m\u001b[0;34m.\u001b[0m\u001b[0mget_loc\u001b[0m\u001b[0;34m(\u001b[0m\u001b[0mkey\u001b[0m\u001b[0;34m)\u001b[0m\u001b[0;34m\u001b[0m\u001b[0;34m\u001b[0m\u001b[0m\n\u001b[0m\u001b[1;32m   4103\u001b[0m             \u001b[0;32mif\u001b[0m \u001b[0mis_integer\u001b[0m\u001b[0;34m(\u001b[0m\u001b[0mindexer\u001b[0m\u001b[0;34m)\u001b[0m\u001b[0;34m:\u001b[0m\u001b[0;34m\u001b[0m\u001b[0;34m\u001b[0m\u001b[0m\n\u001b[1;32m   4104\u001b[0m                 \u001b[0mindexer\u001b[0m \u001b[0;34m=\u001b[0m \u001b[0;34m[\u001b[0m\u001b[0mindexer\u001b[0m\u001b[0;34m]\u001b[0m\u001b[0;34m\u001b[0m\u001b[0;34m\u001b[0m\u001b[0m\n",
            "\u001b[0;32m/usr/local/lib/python3.11/dist-packages/pandas/core/indexes/base.py\u001b[0m in \u001b[0;36mget_loc\u001b[0;34m(self, key)\u001b[0m\n\u001b[1;32m   3810\u001b[0m             ):\n\u001b[1;32m   3811\u001b[0m                 \u001b[0;32mraise\u001b[0m \u001b[0mInvalidIndexError\u001b[0m\u001b[0;34m(\u001b[0m\u001b[0mkey\u001b[0m\u001b[0;34m)\u001b[0m\u001b[0;34m\u001b[0m\u001b[0;34m\u001b[0m\u001b[0m\n\u001b[0;32m-> 3812\u001b[0;31m             \u001b[0;32mraise\u001b[0m \u001b[0mKeyError\u001b[0m\u001b[0;34m(\u001b[0m\u001b[0mkey\u001b[0m\u001b[0;34m)\u001b[0m \u001b[0;32mfrom\u001b[0m \u001b[0merr\u001b[0m\u001b[0;34m\u001b[0m\u001b[0;34m\u001b[0m\u001b[0m\n\u001b[0m\u001b[1;32m   3813\u001b[0m         \u001b[0;32mexcept\u001b[0m \u001b[0mTypeError\u001b[0m\u001b[0;34m:\u001b[0m\u001b[0;34m\u001b[0m\u001b[0;34m\u001b[0m\u001b[0m\n\u001b[1;32m   3814\u001b[0m             \u001b[0;31m# If we have a listlike key, _check_indexing_error will raise\u001b[0m\u001b[0;34m\u001b[0m\u001b[0;34m\u001b[0m\u001b[0m\n",
            "\u001b[0;31mKeyError\u001b[0m: 'SEQN'"
          ]
        }
      ]
    },
    {
      "cell_type": "markdown",
      "source": [],
      "metadata": {
        "id": "OItyFLDDVHgW"
      }
    },
    {
      "cell_type": "code",
      "source": [
        "import pandas as pd\n",
        "from sklearn.impute import KNNImputer, IterativeImputer\n",
        "from sklearn.preprocessing import LabelEncoder\n",
        "\n",
        "\n",
        "test_df = pd.read_csv(\"Test_Data.csv\")\n",
        "\n",
        "# Drop SEQN\n",
        "test_df.drop(columns=['SEQN'], inplace=True)\n",
        "\n",
        "# Choose your imputer\n",
        "imputer = KNNImputer(n_neighbors=5)  # or IterativeImputer(random_state=42)\n",
        "\n",
        "# Fit imputer on train, transform test\n",
        "# Make sure to use the same columns as train\n",
        "X_test_imputed = imputer.fit_transform(test_df)\n",
        "\n",
        "# Convert back to DataFrame\n",
        "test_df = pd.DataFrame(X_test_imputed, columns=test_df.columns)\n",
        "\n",
        "# Label encode categorical features using same encoders as train\n",
        "for col in ['RIAGENDR', 'PAQ605', 'DIQ010']:  # update with your actual categorical cols\n",
        "    test_df[col] = label_encoders[col].transform(test_df[col])\n",
        "\n",
        "# Ensure column order matches training data\n",
        "test_df = test_df[trained_model.feature_names_in_]\n",
        "\n",
        "# Predict\n",
        "test_preds = best_model.predict(test_df)\n",
        "\n",
        "# If needed: inverse transform label encoder\n",
        "# test_preds = label_encoder.inverse_transform(test_preds)\n",
        "\n",
        "# Save to CSV\n",
        "submission = pd.DataFrame({\n",
        "    'ID': test_df.index,  # or original SEQN if you saved it before drop\n",
        "    'Predicted': test_preds\n",
        "})\n",
        "submission.to_csv(\"submission.csv\", index=False)\n"
      ],
      "metadata": {
        "colab": {
          "base_uri": "https://localhost:8080/",
          "height": 356
        },
        "id": "XaiWyHECVHvi",
        "outputId": "c55c14ab-b86f-4780-9784-8858b387eff1"
      },
      "execution_count": null,
      "outputs": [
        {
          "output_type": "error",
          "ename": "ValueError",
          "evalue": "y contains previously unseen labels: [np.float64(1.6)]",
          "traceback": [
            "\u001b[0;31m---------------------------------------------------------------------------\u001b[0m",
            "\u001b[0;31mValueError\u001b[0m                                Traceback (most recent call last)",
            "\u001b[0;32m/tmp/ipython-input-88-190737243.py\u001b[0m in \u001b[0;36m<cell line: 0>\u001b[0;34m()\u001b[0m\n\u001b[1;32m     21\u001b[0m \u001b[0;31m# Label encode categorical features using same encoders as train\u001b[0m\u001b[0;34m\u001b[0m\u001b[0;34m\u001b[0m\u001b[0m\n\u001b[1;32m     22\u001b[0m \u001b[0;32mfor\u001b[0m \u001b[0mcol\u001b[0m \u001b[0;32min\u001b[0m \u001b[0;34m[\u001b[0m\u001b[0;34m'RIAGENDR'\u001b[0m\u001b[0;34m,\u001b[0m \u001b[0;34m'PAQ605'\u001b[0m\u001b[0;34m,\u001b[0m \u001b[0;34m'DIQ010'\u001b[0m\u001b[0;34m]\u001b[0m\u001b[0;34m:\u001b[0m  \u001b[0;31m# update with your actual categorical cols\u001b[0m\u001b[0;34m\u001b[0m\u001b[0;34m\u001b[0m\u001b[0m\n\u001b[0;32m---> 23\u001b[0;31m     \u001b[0mtest_df\u001b[0m\u001b[0;34m[\u001b[0m\u001b[0mcol\u001b[0m\u001b[0;34m]\u001b[0m \u001b[0;34m=\u001b[0m \u001b[0mlabel_encoders\u001b[0m\u001b[0;34m[\u001b[0m\u001b[0mcol\u001b[0m\u001b[0;34m]\u001b[0m\u001b[0;34m.\u001b[0m\u001b[0mtransform\u001b[0m\u001b[0;34m(\u001b[0m\u001b[0mtest_df\u001b[0m\u001b[0;34m[\u001b[0m\u001b[0mcol\u001b[0m\u001b[0;34m]\u001b[0m\u001b[0;34m)\u001b[0m\u001b[0;34m\u001b[0m\u001b[0;34m\u001b[0m\u001b[0m\n\u001b[0m\u001b[1;32m     24\u001b[0m \u001b[0;34m\u001b[0m\u001b[0m\n\u001b[1;32m     25\u001b[0m \u001b[0;31m# Ensure column order matches training data\u001b[0m\u001b[0;34m\u001b[0m\u001b[0;34m\u001b[0m\u001b[0m\n",
            "\u001b[0;32m/usr/local/lib/python3.11/dist-packages/sklearn/preprocessing/_label.py\u001b[0m in \u001b[0;36mtransform\u001b[0;34m(self, y)\u001b[0m\n\u001b[1;32m    132\u001b[0m             \u001b[0;32mreturn\u001b[0m \u001b[0mxp\u001b[0m\u001b[0;34m.\u001b[0m\u001b[0masarray\u001b[0m\u001b[0;34m(\u001b[0m\u001b[0;34m[\u001b[0m\u001b[0;34m]\u001b[0m\u001b[0;34m)\u001b[0m\u001b[0;34m\u001b[0m\u001b[0;34m\u001b[0m\u001b[0m\n\u001b[1;32m    133\u001b[0m \u001b[0;34m\u001b[0m\u001b[0m\n\u001b[0;32m--> 134\u001b[0;31m         \u001b[0;32mreturn\u001b[0m \u001b[0m_encode\u001b[0m\u001b[0;34m(\u001b[0m\u001b[0my\u001b[0m\u001b[0;34m,\u001b[0m \u001b[0muniques\u001b[0m\u001b[0;34m=\u001b[0m\u001b[0mself\u001b[0m\u001b[0;34m.\u001b[0m\u001b[0mclasses_\u001b[0m\u001b[0;34m)\u001b[0m\u001b[0;34m\u001b[0m\u001b[0;34m\u001b[0m\u001b[0m\n\u001b[0m\u001b[1;32m    135\u001b[0m \u001b[0;34m\u001b[0m\u001b[0m\n\u001b[1;32m    136\u001b[0m     \u001b[0;32mdef\u001b[0m \u001b[0minverse_transform\u001b[0m\u001b[0;34m(\u001b[0m\u001b[0mself\u001b[0m\u001b[0;34m,\u001b[0m \u001b[0my\u001b[0m\u001b[0;34m)\u001b[0m\u001b[0;34m:\u001b[0m\u001b[0;34m\u001b[0m\u001b[0;34m\u001b[0m\u001b[0m\n",
            "\u001b[0;32m/usr/local/lib/python3.11/dist-packages/sklearn/utils/_encode.py\u001b[0m in \u001b[0;36m_encode\u001b[0;34m(values, uniques, check_unknown)\u001b[0m\n\u001b[1;32m    240\u001b[0m             \u001b[0mdiff\u001b[0m \u001b[0;34m=\u001b[0m \u001b[0m_check_unknown\u001b[0m\u001b[0;34m(\u001b[0m\u001b[0mvalues\u001b[0m\u001b[0;34m,\u001b[0m \u001b[0muniques\u001b[0m\u001b[0;34m)\u001b[0m\u001b[0;34m\u001b[0m\u001b[0;34m\u001b[0m\u001b[0m\n\u001b[1;32m    241\u001b[0m             \u001b[0;32mif\u001b[0m \u001b[0mdiff\u001b[0m\u001b[0;34m:\u001b[0m\u001b[0;34m\u001b[0m\u001b[0;34m\u001b[0m\u001b[0m\n\u001b[0;32m--> 242\u001b[0;31m                 \u001b[0;32mraise\u001b[0m \u001b[0mValueError\u001b[0m\u001b[0;34m(\u001b[0m\u001b[0;34mf\"y contains previously unseen labels: {str(diff)}\"\u001b[0m\u001b[0;34m)\u001b[0m\u001b[0;34m\u001b[0m\u001b[0;34m\u001b[0m\u001b[0m\n\u001b[0m\u001b[1;32m    243\u001b[0m         \u001b[0;32mreturn\u001b[0m \u001b[0m_searchsorted\u001b[0m\u001b[0;34m(\u001b[0m\u001b[0muniques\u001b[0m\u001b[0;34m,\u001b[0m \u001b[0mvalues\u001b[0m\u001b[0;34m,\u001b[0m \u001b[0mxp\u001b[0m\u001b[0;34m=\u001b[0m\u001b[0mxp\u001b[0m\u001b[0;34m)\u001b[0m\u001b[0;34m\u001b[0m\u001b[0;34m\u001b[0m\u001b[0m\n\u001b[1;32m    244\u001b[0m \u001b[0;34m\u001b[0m\u001b[0m\n",
            "\u001b[0;31mValueError\u001b[0m: y contains previously unseen labels: [np.float64(1.6)]"
          ]
        }
      ]
    },
    {
      "cell_type": "code",
      "source": [],
      "metadata": {
        "id": "2-V5m-q-Vq-w"
      },
      "execution_count": null,
      "outputs": []
    },
    {
      "cell_type": "code",
      "source": [
        "# Fix for DIQ010\n",
        "test_df['DIQ010'] = test_df['DIQ010'].replace(1.6, 1)  # or 2 if it makes more sense\n"
      ],
      "metadata": {
        "id": "gwxcEtcNVjXb"
      },
      "execution_count": null,
      "outputs": []
    },
    {
      "cell_type": "code",
      "source": [
        "print(\"DIQ010 train:\", df['DIQ010'].unique())\n",
        "print(\"DIQ010 test :\", test_df['DIQ010'].unique())\n"
      ],
      "metadata": {
        "colab": {
          "base_uri": "https://localhost:8080/"
        },
        "id": "gTl4e0CEVkpb",
        "outputId": "683f4d26-e6a6-41c7-d859-562a1ec0b2b8"
      },
      "execution_count": null,
      "outputs": [
        {
          "output_type": "stream",
          "name": "stdout",
          "text": [
            "DIQ010 train: [1 3 0 2]\n",
            "DIQ010 test : [2. 1. 3.]\n"
          ]
        }
      ]
    },
    {
      "cell_type": "code",
      "source": [
        "import pandas as pd\n",
        "from sklearn.impute import KNNImputer, IterativeImputer\n",
        "from sklearn.preprocessing import LabelEncoder\n",
        "\n",
        "\n",
        "test_df = pd.read_csv(\"Test_Data.csv\")\n",
        "\n",
        "# Drop SEQN\n",
        "test_df.drop(columns=['SEQN'], inplace=True)\n",
        "\n",
        "# Choose your imputer\n",
        "imputer = KNNImputer(n_neighbors=5)  # or IterativeImputer(random_state=42)\n",
        "\n",
        "# Fit imputer on train, transform test\n",
        "# Make sure to use the same columns as train\n",
        "X_test_imputed = imputer.fit_transform(test_df)\n",
        "\n",
        "# Convert back to DataFrame\n",
        "test_df = pd.DataFrame(X_test_imputed, columns=test_df.columns)\n",
        "\n",
        "# Label encode categorical features using same encoders as train\n",
        "for col in ['RIAGENDR', 'PAQ605', 'DIQ010']:  # update with your actual categorical cols\n",
        "    test_df[col] = label_encoders[col].transform(test_df[col])\n",
        "\n",
        "# Ensure column order matches training data\n",
        "test_df = test_df[trained_model.feature_names_in_]\n",
        "\n",
        "# Predict\n",
        "test_preds = best_model.predict(test_df)\n",
        "\n",
        "# If needed: inverse transform label encoder\n",
        "# test_preds = label_encoder.inverse_transform(test_preds)\n",
        "\n",
        "# Save to CSV\n",
        "submission = pd.DataFrame({\n",
        "    'ID': test_df.index,  # or original SEQN if you saved it before drop\n",
        "    'Predicted': test_preds\n",
        "})\n",
        "submission.to_csv(\"submission.csv\", index=False)\n"
      ],
      "metadata": {
        "colab": {
          "base_uri": "https://localhost:8080/",
          "height": 356
        },
        "id": "E6AtmrXZVtI2",
        "outputId": "8792a192-d31b-450e-8db1-c4adbc02c340"
      },
      "execution_count": null,
      "outputs": [
        {
          "output_type": "error",
          "ename": "ValueError",
          "evalue": "y contains previously unseen labels: [np.float64(1.6)]",
          "traceback": [
            "\u001b[0;31m---------------------------------------------------------------------------\u001b[0m",
            "\u001b[0;31mValueError\u001b[0m                                Traceback (most recent call last)",
            "\u001b[0;32m/tmp/ipython-input-97-190737243.py\u001b[0m in \u001b[0;36m<cell line: 0>\u001b[0;34m()\u001b[0m\n\u001b[1;32m     21\u001b[0m \u001b[0;31m# Label encode categorical features using same encoders as train\u001b[0m\u001b[0;34m\u001b[0m\u001b[0;34m\u001b[0m\u001b[0m\n\u001b[1;32m     22\u001b[0m \u001b[0;32mfor\u001b[0m \u001b[0mcol\u001b[0m \u001b[0;32min\u001b[0m \u001b[0;34m[\u001b[0m\u001b[0;34m'RIAGENDR'\u001b[0m\u001b[0;34m,\u001b[0m \u001b[0;34m'PAQ605'\u001b[0m\u001b[0;34m,\u001b[0m \u001b[0;34m'DIQ010'\u001b[0m\u001b[0;34m]\u001b[0m\u001b[0;34m:\u001b[0m  \u001b[0;31m# update with your actual categorical cols\u001b[0m\u001b[0;34m\u001b[0m\u001b[0;34m\u001b[0m\u001b[0m\n\u001b[0;32m---> 23\u001b[0;31m     \u001b[0mtest_df\u001b[0m\u001b[0;34m[\u001b[0m\u001b[0mcol\u001b[0m\u001b[0;34m]\u001b[0m \u001b[0;34m=\u001b[0m \u001b[0mlabel_encoders\u001b[0m\u001b[0;34m[\u001b[0m\u001b[0mcol\u001b[0m\u001b[0;34m]\u001b[0m\u001b[0;34m.\u001b[0m\u001b[0mtransform\u001b[0m\u001b[0;34m(\u001b[0m\u001b[0mtest_df\u001b[0m\u001b[0;34m[\u001b[0m\u001b[0mcol\u001b[0m\u001b[0;34m]\u001b[0m\u001b[0;34m)\u001b[0m\u001b[0;34m\u001b[0m\u001b[0;34m\u001b[0m\u001b[0m\n\u001b[0m\u001b[1;32m     24\u001b[0m \u001b[0;34m\u001b[0m\u001b[0m\n\u001b[1;32m     25\u001b[0m \u001b[0;31m# Ensure column order matches training data\u001b[0m\u001b[0;34m\u001b[0m\u001b[0;34m\u001b[0m\u001b[0m\n",
            "\u001b[0;32m/usr/local/lib/python3.11/dist-packages/sklearn/preprocessing/_label.py\u001b[0m in \u001b[0;36mtransform\u001b[0;34m(self, y)\u001b[0m\n\u001b[1;32m    132\u001b[0m             \u001b[0;32mreturn\u001b[0m \u001b[0mxp\u001b[0m\u001b[0;34m.\u001b[0m\u001b[0masarray\u001b[0m\u001b[0;34m(\u001b[0m\u001b[0;34m[\u001b[0m\u001b[0;34m]\u001b[0m\u001b[0;34m)\u001b[0m\u001b[0;34m\u001b[0m\u001b[0;34m\u001b[0m\u001b[0m\n\u001b[1;32m    133\u001b[0m \u001b[0;34m\u001b[0m\u001b[0m\n\u001b[0;32m--> 134\u001b[0;31m         \u001b[0;32mreturn\u001b[0m \u001b[0m_encode\u001b[0m\u001b[0;34m(\u001b[0m\u001b[0my\u001b[0m\u001b[0;34m,\u001b[0m \u001b[0muniques\u001b[0m\u001b[0;34m=\u001b[0m\u001b[0mself\u001b[0m\u001b[0;34m.\u001b[0m\u001b[0mclasses_\u001b[0m\u001b[0;34m)\u001b[0m\u001b[0;34m\u001b[0m\u001b[0;34m\u001b[0m\u001b[0m\n\u001b[0m\u001b[1;32m    135\u001b[0m \u001b[0;34m\u001b[0m\u001b[0m\n\u001b[1;32m    136\u001b[0m     \u001b[0;32mdef\u001b[0m \u001b[0minverse_transform\u001b[0m\u001b[0;34m(\u001b[0m\u001b[0mself\u001b[0m\u001b[0;34m,\u001b[0m \u001b[0my\u001b[0m\u001b[0;34m)\u001b[0m\u001b[0;34m:\u001b[0m\u001b[0;34m\u001b[0m\u001b[0;34m\u001b[0m\u001b[0m\n",
            "\u001b[0;32m/usr/local/lib/python3.11/dist-packages/sklearn/utils/_encode.py\u001b[0m in \u001b[0;36m_encode\u001b[0;34m(values, uniques, check_unknown)\u001b[0m\n\u001b[1;32m    240\u001b[0m             \u001b[0mdiff\u001b[0m \u001b[0;34m=\u001b[0m \u001b[0m_check_unknown\u001b[0m\u001b[0;34m(\u001b[0m\u001b[0mvalues\u001b[0m\u001b[0;34m,\u001b[0m \u001b[0muniques\u001b[0m\u001b[0;34m)\u001b[0m\u001b[0;34m\u001b[0m\u001b[0;34m\u001b[0m\u001b[0m\n\u001b[1;32m    241\u001b[0m             \u001b[0;32mif\u001b[0m \u001b[0mdiff\u001b[0m\u001b[0;34m:\u001b[0m\u001b[0;34m\u001b[0m\u001b[0;34m\u001b[0m\u001b[0m\n\u001b[0;32m--> 242\u001b[0;31m                 \u001b[0;32mraise\u001b[0m \u001b[0mValueError\u001b[0m\u001b[0;34m(\u001b[0m\u001b[0;34mf\"y contains previously unseen labels: {str(diff)}\"\u001b[0m\u001b[0;34m)\u001b[0m\u001b[0;34m\u001b[0m\u001b[0;34m\u001b[0m\u001b[0m\n\u001b[0m\u001b[1;32m    243\u001b[0m         \u001b[0;32mreturn\u001b[0m \u001b[0m_searchsorted\u001b[0m\u001b[0;34m(\u001b[0m\u001b[0muniques\u001b[0m\u001b[0;34m,\u001b[0m \u001b[0mvalues\u001b[0m\u001b[0;34m,\u001b[0m \u001b[0mxp\u001b[0m\u001b[0;34m=\u001b[0m\u001b[0mxp\u001b[0m\u001b[0;34m)\u001b[0m\u001b[0;34m\u001b[0m\u001b[0;34m\u001b[0m\u001b[0m\n\u001b[1;32m    244\u001b[0m \u001b[0;34m\u001b[0m\u001b[0m\n",
            "\u001b[0;31mValueError\u001b[0m: y contains previously unseen labels: [np.float64(1.6)]"
          ]
        }
      ]
    },
    {
      "cell_type": "code",
      "source": [
        "test_df['DIQ010'] = test_df['DIQ010'].astype(int)\n"
      ],
      "metadata": {
        "id": "llA-RykbWDJQ"
      },
      "execution_count": null,
      "outputs": []
    },
    {
      "cell_type": "code",
      "source": [
        "test_df['DIQ010'] = label_encoders['DIQ010'].transform(test_df['DIQ010'])\n"
      ],
      "metadata": {
        "id": "J29f3WgIWEVu"
      },
      "execution_count": null,
      "outputs": []
    },
    {
      "cell_type": "code",
      "source": [
        "# Fix datatype\n",
        "for col in ['RIAGENDR', 'PAQ605', 'DIQ010']:\n",
        "    test_df[col] = test_df[col].astype(int)\n",
        "    test_df[col] = label_encoders[col].transform(test_df[col])\n"
      ],
      "metadata": {
        "colab": {
          "base_uri": "https://localhost:8080/",
          "height": 321
        },
        "id": "J4kG5zuYWIVa",
        "outputId": "aacde3ff-68e5-4b60-c5ff-bd9dcf2f9529"
      },
      "execution_count": null,
      "outputs": [
        {
          "output_type": "error",
          "ename": "ValueError",
          "evalue": "y contains previously unseen labels: [np.float64(0.0)]",
          "traceback": [
            "\u001b[0;31m---------------------------------------------------------------------------\u001b[0m",
            "\u001b[0;31mValueError\u001b[0m                                Traceback (most recent call last)",
            "\u001b[0;32m/tmp/ipython-input-103-3871597436.py\u001b[0m in \u001b[0;36m<cell line: 0>\u001b[0;34m()\u001b[0m\n\u001b[1;32m      2\u001b[0m \u001b[0;32mfor\u001b[0m \u001b[0mcol\u001b[0m \u001b[0;32min\u001b[0m \u001b[0;34m[\u001b[0m\u001b[0;34m'RIAGENDR'\u001b[0m\u001b[0;34m,\u001b[0m \u001b[0;34m'PAQ605'\u001b[0m\u001b[0;34m,\u001b[0m \u001b[0;34m'DIQ010'\u001b[0m\u001b[0;34m]\u001b[0m\u001b[0;34m:\u001b[0m\u001b[0;34m\u001b[0m\u001b[0;34m\u001b[0m\u001b[0m\n\u001b[1;32m      3\u001b[0m     \u001b[0mtest_df\u001b[0m\u001b[0;34m[\u001b[0m\u001b[0mcol\u001b[0m\u001b[0;34m]\u001b[0m \u001b[0;34m=\u001b[0m \u001b[0mtest_df\u001b[0m\u001b[0;34m[\u001b[0m\u001b[0mcol\u001b[0m\u001b[0;34m]\u001b[0m\u001b[0;34m.\u001b[0m\u001b[0mastype\u001b[0m\u001b[0;34m(\u001b[0m\u001b[0mint\u001b[0m\u001b[0;34m)\u001b[0m\u001b[0;34m\u001b[0m\u001b[0;34m\u001b[0m\u001b[0m\n\u001b[0;32m----> 4\u001b[0;31m     \u001b[0mtest_df\u001b[0m\u001b[0;34m[\u001b[0m\u001b[0mcol\u001b[0m\u001b[0;34m]\u001b[0m \u001b[0;34m=\u001b[0m \u001b[0mlabel_encoders\u001b[0m\u001b[0;34m[\u001b[0m\u001b[0mcol\u001b[0m\u001b[0;34m]\u001b[0m\u001b[0;34m.\u001b[0m\u001b[0mtransform\u001b[0m\u001b[0;34m(\u001b[0m\u001b[0mtest_df\u001b[0m\u001b[0;34m[\u001b[0m\u001b[0mcol\u001b[0m\u001b[0;34m]\u001b[0m\u001b[0;34m)\u001b[0m\u001b[0;34m\u001b[0m\u001b[0;34m\u001b[0m\u001b[0m\n\u001b[0m",
            "\u001b[0;32m/usr/local/lib/python3.11/dist-packages/sklearn/preprocessing/_label.py\u001b[0m in \u001b[0;36mtransform\u001b[0;34m(self, y)\u001b[0m\n\u001b[1;32m    132\u001b[0m             \u001b[0;32mreturn\u001b[0m \u001b[0mxp\u001b[0m\u001b[0;34m.\u001b[0m\u001b[0masarray\u001b[0m\u001b[0;34m(\u001b[0m\u001b[0;34m[\u001b[0m\u001b[0;34m]\u001b[0m\u001b[0;34m)\u001b[0m\u001b[0;34m\u001b[0m\u001b[0;34m\u001b[0m\u001b[0m\n\u001b[1;32m    133\u001b[0m \u001b[0;34m\u001b[0m\u001b[0m\n\u001b[0;32m--> 134\u001b[0;31m         \u001b[0;32mreturn\u001b[0m \u001b[0m_encode\u001b[0m\u001b[0;34m(\u001b[0m\u001b[0my\u001b[0m\u001b[0;34m,\u001b[0m \u001b[0muniques\u001b[0m\u001b[0;34m=\u001b[0m\u001b[0mself\u001b[0m\u001b[0;34m.\u001b[0m\u001b[0mclasses_\u001b[0m\u001b[0;34m)\u001b[0m\u001b[0;34m\u001b[0m\u001b[0;34m\u001b[0m\u001b[0m\n\u001b[0m\u001b[1;32m    135\u001b[0m \u001b[0;34m\u001b[0m\u001b[0m\n\u001b[1;32m    136\u001b[0m     \u001b[0;32mdef\u001b[0m \u001b[0minverse_transform\u001b[0m\u001b[0;34m(\u001b[0m\u001b[0mself\u001b[0m\u001b[0;34m,\u001b[0m \u001b[0my\u001b[0m\u001b[0;34m)\u001b[0m\u001b[0;34m:\u001b[0m\u001b[0;34m\u001b[0m\u001b[0;34m\u001b[0m\u001b[0m\n",
            "\u001b[0;32m/usr/local/lib/python3.11/dist-packages/sklearn/utils/_encode.py\u001b[0m in \u001b[0;36m_encode\u001b[0;34m(values, uniques, check_unknown)\u001b[0m\n\u001b[1;32m    240\u001b[0m             \u001b[0mdiff\u001b[0m \u001b[0;34m=\u001b[0m \u001b[0m_check_unknown\u001b[0m\u001b[0;34m(\u001b[0m\u001b[0mvalues\u001b[0m\u001b[0;34m,\u001b[0m \u001b[0muniques\u001b[0m\u001b[0;34m)\u001b[0m\u001b[0;34m\u001b[0m\u001b[0;34m\u001b[0m\u001b[0m\n\u001b[1;32m    241\u001b[0m             \u001b[0;32mif\u001b[0m \u001b[0mdiff\u001b[0m\u001b[0;34m:\u001b[0m\u001b[0;34m\u001b[0m\u001b[0;34m\u001b[0m\u001b[0m\n\u001b[0;32m--> 242\u001b[0;31m                 \u001b[0;32mraise\u001b[0m \u001b[0mValueError\u001b[0m\u001b[0;34m(\u001b[0m\u001b[0;34mf\"y contains previously unseen labels: {str(diff)}\"\u001b[0m\u001b[0;34m)\u001b[0m\u001b[0;34m\u001b[0m\u001b[0;34m\u001b[0m\u001b[0m\n\u001b[0m\u001b[1;32m    243\u001b[0m         \u001b[0;32mreturn\u001b[0m \u001b[0m_searchsorted\u001b[0m\u001b[0;34m(\u001b[0m\u001b[0muniques\u001b[0m\u001b[0;34m,\u001b[0m \u001b[0mvalues\u001b[0m\u001b[0;34m,\u001b[0m \u001b[0mxp\u001b[0m\u001b[0;34m=\u001b[0m\u001b[0mxp\u001b[0m\u001b[0;34m)\u001b[0m\u001b[0;34m\u001b[0m\u001b[0;34m\u001b[0m\u001b[0m\n\u001b[1;32m    244\u001b[0m \u001b[0;34m\u001b[0m\u001b[0m\n",
            "\u001b[0;31mValueError\u001b[0m: y contains previously unseen labels: [np.float64(0.0)]"
          ]
        }
      ]
    },
    {
      "cell_type": "code",
      "source": [
        "# Print values from train encoder\n",
        "print(label_encoders['DIQ010'].classes_)\n",
        "\n",
        "# Then map unknowns (like 0) to a known class index manually\n",
        "# For example, if 0 is not in classes_, assign it to class index 1\n",
        "\n",
        "test_df['DIQ010'] = test_df['DIQ010'].replace(0, 1)  # or drop, or impute\n"
      ],
      "metadata": {
        "colab": {
          "base_uri": "https://localhost:8080/"
        },
        "id": "xwgNdm9PWcps",
        "outputId": "1f1400c5-8e13-4cae-d69b-6e88ad083366"
      },
      "execution_count": null,
      "outputs": [
        {
          "output_type": "stream",
          "name": "stdout",
          "text": [
            "[ 1.  2.  3. nan]\n"
          ]
        }
      ]
    },
    {
      "cell_type": "code",
      "source": [
        "import pandas as pd\n",
        "import numpy as np\n",
        "from sklearn.impute import KNNImputer, IterativeImputer\n",
        "from sklearn.preprocessing import LabelEncoder\n",
        "\n",
        "# Load test data\n",
        "test_df = pd.read_csv('Test_Data.csv')\n",
        "\n",
        "# Save SEQN for submission\n",
        "test_seqn = test_df['SEQN'].copy()\n",
        "\n",
        "# Drop SEQN\n",
        "test_df.drop(columns=['SEQN'], inplace=True)\n",
        "\n",
        "# Feature Engineering (to match training preprocessing)\n",
        "# 1. BMI Categories\n",
        "def categorize_bmi(bmi):\n",
        "    if pd.isna(bmi):\n",
        "        return 'Normal'  # Default for missing BMI\n",
        "    elif bmi < 18.5:\n",
        "        return 'Underweight'\n",
        "    elif 18.5 <= bmi < 25:\n",
        "        return 'Normal'\n",
        "    elif 25 <= bmi < 30:\n",
        "        return 'Overweight'\n",
        "    else:\n",
        "        return 'Obese'\n",
        "test_df['BMI_Category'] = test_df['BMXBMI'].apply(categorize_bmi)\n",
        "\n",
        "# 2. Glucose-Insulin Ratio\n",
        "test_df['Glucose_Insulin_Ratio'] = test_df['LBXGLU'] / test_df['LBXIN'].replace(0, np.nan)\n",
        "\n",
        "# 3. Clip LBXGLU outliers (using approximate IQR from training data)\n",
        "# Replace with actual training IQR values if available\n",
        "q1, q3 = 91, 104  # Example quantiles\n",
        "iqr = q3 - q1\n",
        "test_df['LBXGLU'] = test_df['LBXGLU'].clip(lower=q1 - 1.5*iqr, upper=q3 + 1.5*iqr)\n",
        "\n",
        "# Handle missing values in categorical columns\n",
        "categorical_cols = ['RIAGENDR', 'PAQ605', 'DIQ010', 'BMI_Category']\n",
        "for col in categorical_cols[:-1]:  # Exclude BMI_Category\n",
        "    # Use training data mode if available, else test data mode\n",
        "    test_df[col] = test_df[col].fillna(test_df[col].mode()[0])\n",
        "test_df['BMI_Category'] = test_df['BMI_Category'].fillna('Normal')\n",
        "\n",
        "# Encode categorical columns, handling unseen labels\n",
        "# Assume label_encoders is a dict of LabelEncoder objects from training\n",
        "for col in categorical_cols:\n",
        "    try:\n",
        "        # Map unseen values to most common class\n",
        "        test_df[col] = test_df[col].apply(\n",
        "            lambda x: x if pd.notna(x) and x in label_encoders[col].classes_ else label_encoders[col].classes_[0]\n",
        "        )\n",
        "        test_df[col] = label_encoders[col].transform(test_df[col])\n",
        "    except Exception as e:\n",
        "        print(f\"Error encoding {col}: {e}\")\n",
        "        # Fallback: Fill with most common class index\n",
        "        test_df[col] = label_encoders[col].transform([label_encoders[col].classes_[0]])[0]\n",
        "\n",
        "# Impute numerical missing values using KNN\n",
        "numerical_cols = ['BMXBMI', 'LBXGLU', 'LBXGLT', 'LBXIN', 'Glucose_Insulin_Ratio']\n",
        "knn_imputer = KNNImputer(n_neighbors=5)\n",
        "test_df[numerical_cols] = pd.DataFrame(\n",
        "    knn_imputer.fit_transform(test_df[numerical_cols]),\n",
        "    columns=numerical_cols\n",
        ")\n",
        "\n",
        "# Ensure column order matches training data\n",
        "try:\n",
        "    test_df = test_df[best_model.feature_names_in_]\n",
        "except AttributeError:\n",
        "    print(\"Warning: best_model.feature_names_in_ not found. Ensure test_df columns match training.\")\n",
        "\n",
        "# Predict with KNN-imputed data\n",
        "test_preds = best_model.predict(test_df)\n",
        "\n",
        "# Create submission DataFrame for KNN\n",
        "submission = pd.DataFrame({\n",
        "    'ID': test_seqn,\n",
        "    'Predicted': test_preds\n",
        "})\n",
        "\n",
        "# Save KNN-based submission\n",
        "submission.to_csv('submission_knn.csv', index=False)\n",
        "\n",
        "# Alternative: Impute numerical missing values using Iterative Imputer\n",
        "iter_imputer = IterativeImputer(random_state=42)\n",
        "test_df[numerical_cols] = pd.DataFrame(\n",
        "    iter_imputer.fit_transform(test_df[numerical_cols]),\n",
        "    columns=numerical_cols\n",
        ")\n",
        "\n",
        "# Predict with Iterative-imputed data\n",
        "test_preds_iter = best_model.predict(test_df[best_model.feature_names_in_])\n",
        "\n",
        "# Create submission DataFrame for Iterative Imputation\n",
        "submission_iter = pd.DataFrame({\n",
        "    'ID': test_seqn,\n",
        "    'Predicted': test_preds_iter\n",
        "})\n",
        "\n",
        "# Save Iterative-based submission\n",
        "submission_iter.to_csv('submission_iterative.csv', index=False)\n",
        "\n",
        "# Verify submission format\n",
        "print(\"KNN Submission Head:\")\n",
        "print(submission.head())\n",
        "print(\"\\nIterative Submission Head:\")\n",
        "print(submission_iter.head())\n",
        "print(\"\\nSubmission files 'submission_knn.csv' and 'submission_iterative.csv' created successfully.\")"
      ],
      "metadata": {
        "colab": {
          "base_uri": "https://localhost:8080/",
          "height": 460
        },
        "id": "P0d9YfvKruSz",
        "outputId": "5609aa70-f34d-4b03-859e-f6e99f02ce31"
      },
      "execution_count": null,
      "outputs": [
        {
          "output_type": "stream",
          "name": "stdout",
          "text": [
            "Error encoding BMI_Category: 'BMI_Category'\n"
          ]
        },
        {
          "output_type": "error",
          "ename": "KeyError",
          "evalue": "'BMI_Category'",
          "traceback": [
            "\u001b[0;31m---------------------------------------------------------------------------\u001b[0m",
            "\u001b[0;31mKeyError\u001b[0m                                  Traceback (most recent call last)",
            "\u001b[0;32m/tmp/ipython-input-126-3353002440.py\u001b[0m in \u001b[0;36m<cell line: 0>\u001b[0;34m()\u001b[0m\n\u001b[1;32m     50\u001b[0m         \u001b[0;31m# Map unseen values to most common class\u001b[0m\u001b[0;34m\u001b[0m\u001b[0;34m\u001b[0m\u001b[0m\n\u001b[0;32m---> 51\u001b[0;31m         test_df[col] = test_df[col].apply(\n\u001b[0m\u001b[1;32m     52\u001b[0m             \u001b[0;32mlambda\u001b[0m \u001b[0mx\u001b[0m\u001b[0;34m:\u001b[0m \u001b[0mx\u001b[0m \u001b[0;32mif\u001b[0m \u001b[0mpd\u001b[0m\u001b[0;34m.\u001b[0m\u001b[0mnotna\u001b[0m\u001b[0;34m(\u001b[0m\u001b[0mx\u001b[0m\u001b[0;34m)\u001b[0m \u001b[0;32mand\u001b[0m \u001b[0mx\u001b[0m \u001b[0;32min\u001b[0m \u001b[0mlabel_encoders\u001b[0m\u001b[0;34m[\u001b[0m\u001b[0mcol\u001b[0m\u001b[0;34m]\u001b[0m\u001b[0;34m.\u001b[0m\u001b[0mclasses_\u001b[0m \u001b[0;32melse\u001b[0m \u001b[0mlabel_encoders\u001b[0m\u001b[0;34m[\u001b[0m\u001b[0mcol\u001b[0m\u001b[0;34m]\u001b[0m\u001b[0;34m.\u001b[0m\u001b[0mclasses_\u001b[0m\u001b[0;34m[\u001b[0m\u001b[0;36m0\u001b[0m\u001b[0;34m]\u001b[0m\u001b[0;34m\u001b[0m\u001b[0;34m\u001b[0m\u001b[0m\n",
            "\u001b[0;32m/usr/local/lib/python3.11/dist-packages/pandas/core/series.py\u001b[0m in \u001b[0;36mapply\u001b[0;34m(self, func, convert_dtype, args, by_row, **kwargs)\u001b[0m\n\u001b[1;32m   4923\u001b[0m             \u001b[0mkwargs\u001b[0m\u001b[0;34m=\u001b[0m\u001b[0mkwargs\u001b[0m\u001b[0;34m,\u001b[0m\u001b[0;34m\u001b[0m\u001b[0;34m\u001b[0m\u001b[0m\n\u001b[0;32m-> 4924\u001b[0;31m         ).apply()\n\u001b[0m\u001b[1;32m   4925\u001b[0m \u001b[0;34m\u001b[0m\u001b[0m\n",
            "\u001b[0;32m/usr/local/lib/python3.11/dist-packages/pandas/core/apply.py\u001b[0m in \u001b[0;36mapply\u001b[0;34m(self)\u001b[0m\n\u001b[1;32m   1426\u001b[0m         \u001b[0;31m# self.func is Callable\u001b[0m\u001b[0;34m\u001b[0m\u001b[0;34m\u001b[0m\u001b[0m\n\u001b[0;32m-> 1427\u001b[0;31m         \u001b[0;32mreturn\u001b[0m \u001b[0mself\u001b[0m\u001b[0;34m.\u001b[0m\u001b[0mapply_standard\u001b[0m\u001b[0;34m(\u001b[0m\u001b[0;34m)\u001b[0m\u001b[0;34m\u001b[0m\u001b[0;34m\u001b[0m\u001b[0m\n\u001b[0m\u001b[1;32m   1428\u001b[0m \u001b[0;34m\u001b[0m\u001b[0m\n",
            "\u001b[0;32m/usr/local/lib/python3.11/dist-packages/pandas/core/apply.py\u001b[0m in \u001b[0;36mapply_standard\u001b[0;34m(self)\u001b[0m\n\u001b[1;32m   1506\u001b[0m         \u001b[0maction\u001b[0m \u001b[0;34m=\u001b[0m \u001b[0;34m\"ignore\"\u001b[0m \u001b[0;32mif\u001b[0m \u001b[0misinstance\u001b[0m\u001b[0;34m(\u001b[0m\u001b[0mobj\u001b[0m\u001b[0;34m.\u001b[0m\u001b[0mdtype\u001b[0m\u001b[0;34m,\u001b[0m \u001b[0mCategoricalDtype\u001b[0m\u001b[0;34m)\u001b[0m \u001b[0;32melse\u001b[0m \u001b[0;32mNone\u001b[0m\u001b[0;34m\u001b[0m\u001b[0;34m\u001b[0m\u001b[0m\n\u001b[0;32m-> 1507\u001b[0;31m         mapped = obj._map_values(\n\u001b[0m\u001b[1;32m   1508\u001b[0m             \u001b[0mmapper\u001b[0m\u001b[0;34m=\u001b[0m\u001b[0mcurried\u001b[0m\u001b[0;34m,\u001b[0m \u001b[0mna_action\u001b[0m\u001b[0;34m=\u001b[0m\u001b[0maction\u001b[0m\u001b[0;34m,\u001b[0m \u001b[0mconvert\u001b[0m\u001b[0;34m=\u001b[0m\u001b[0mself\u001b[0m\u001b[0;34m.\u001b[0m\u001b[0mconvert_dtype\u001b[0m\u001b[0;34m\u001b[0m\u001b[0;34m\u001b[0m\u001b[0m\n",
            "\u001b[0;32m/usr/local/lib/python3.11/dist-packages/pandas/core/base.py\u001b[0m in \u001b[0;36m_map_values\u001b[0;34m(self, mapper, na_action, convert)\u001b[0m\n\u001b[1;32m    920\u001b[0m \u001b[0;34m\u001b[0m\u001b[0m\n\u001b[0;32m--> 921\u001b[0;31m         \u001b[0;32mreturn\u001b[0m \u001b[0malgorithms\u001b[0m\u001b[0;34m.\u001b[0m\u001b[0mmap_array\u001b[0m\u001b[0;34m(\u001b[0m\u001b[0marr\u001b[0m\u001b[0;34m,\u001b[0m \u001b[0mmapper\u001b[0m\u001b[0;34m,\u001b[0m \u001b[0mna_action\u001b[0m\u001b[0;34m=\u001b[0m\u001b[0mna_action\u001b[0m\u001b[0;34m,\u001b[0m \u001b[0mconvert\u001b[0m\u001b[0;34m=\u001b[0m\u001b[0mconvert\u001b[0m\u001b[0;34m)\u001b[0m\u001b[0;34m\u001b[0m\u001b[0;34m\u001b[0m\u001b[0m\n\u001b[0m\u001b[1;32m    922\u001b[0m \u001b[0;34m\u001b[0m\u001b[0m\n",
            "\u001b[0;32m/usr/local/lib/python3.11/dist-packages/pandas/core/algorithms.py\u001b[0m in \u001b[0;36mmap_array\u001b[0;34m(arr, mapper, na_action, convert)\u001b[0m\n\u001b[1;32m   1742\u001b[0m     \u001b[0;32mif\u001b[0m \u001b[0mna_action\u001b[0m \u001b[0;32mis\u001b[0m \u001b[0;32mNone\u001b[0m\u001b[0;34m:\u001b[0m\u001b[0;34m\u001b[0m\u001b[0;34m\u001b[0m\u001b[0m\n\u001b[0;32m-> 1743\u001b[0;31m         \u001b[0;32mreturn\u001b[0m \u001b[0mlib\u001b[0m\u001b[0;34m.\u001b[0m\u001b[0mmap_infer\u001b[0m\u001b[0;34m(\u001b[0m\u001b[0mvalues\u001b[0m\u001b[0;34m,\u001b[0m \u001b[0mmapper\u001b[0m\u001b[0;34m,\u001b[0m \u001b[0mconvert\u001b[0m\u001b[0;34m=\u001b[0m\u001b[0mconvert\u001b[0m\u001b[0;34m)\u001b[0m\u001b[0;34m\u001b[0m\u001b[0;34m\u001b[0m\u001b[0m\n\u001b[0m\u001b[1;32m   1744\u001b[0m     \u001b[0;32melse\u001b[0m\u001b[0;34m:\u001b[0m\u001b[0;34m\u001b[0m\u001b[0;34m\u001b[0m\u001b[0m\n",
            "\u001b[0;32mlib.pyx\u001b[0m in \u001b[0;36mpandas._libs.lib.map_infer\u001b[0;34m()\u001b[0m\n",
            "\u001b[0;32m/tmp/ipython-input-126-3353002440.py\u001b[0m in \u001b[0;36m<lambda>\u001b[0;34m(x)\u001b[0m\n\u001b[1;32m     51\u001b[0m         test_df[col] = test_df[col].apply(\n\u001b[0;32m---> 52\u001b[0;31m             \u001b[0;32mlambda\u001b[0m \u001b[0mx\u001b[0m\u001b[0;34m:\u001b[0m \u001b[0mx\u001b[0m \u001b[0;32mif\u001b[0m \u001b[0mpd\u001b[0m\u001b[0;34m.\u001b[0m\u001b[0mnotna\u001b[0m\u001b[0;34m(\u001b[0m\u001b[0mx\u001b[0m\u001b[0;34m)\u001b[0m \u001b[0;32mand\u001b[0m \u001b[0mx\u001b[0m \u001b[0;32min\u001b[0m \u001b[0mlabel_encoders\u001b[0m\u001b[0;34m[\u001b[0m\u001b[0mcol\u001b[0m\u001b[0;34m]\u001b[0m\u001b[0;34m.\u001b[0m\u001b[0mclasses_\u001b[0m \u001b[0;32melse\u001b[0m \u001b[0mlabel_encoders\u001b[0m\u001b[0;34m[\u001b[0m\u001b[0mcol\u001b[0m\u001b[0;34m]\u001b[0m\u001b[0;34m.\u001b[0m\u001b[0mclasses_\u001b[0m\u001b[0;34m[\u001b[0m\u001b[0;36m0\u001b[0m\u001b[0;34m]\u001b[0m\u001b[0;34m\u001b[0m\u001b[0;34m\u001b[0m\u001b[0m\n\u001b[0m\u001b[1;32m     53\u001b[0m         )\n",
            "\u001b[0;31mKeyError\u001b[0m: 'BMI_Category'",
            "\nDuring handling of the above exception, another exception occurred:\n",
            "\u001b[0;31mKeyError\u001b[0m                                  Traceback (most recent call last)",
            "\u001b[0;32m/tmp/ipython-input-126-3353002440.py\u001b[0m in \u001b[0;36m<cell line: 0>\u001b[0;34m()\u001b[0m\n\u001b[1;32m     56\u001b[0m         \u001b[0mprint\u001b[0m\u001b[0;34m(\u001b[0m\u001b[0;34mf\"Error encoding {col}: {e}\"\u001b[0m\u001b[0;34m)\u001b[0m\u001b[0;34m\u001b[0m\u001b[0;34m\u001b[0m\u001b[0m\n\u001b[1;32m     57\u001b[0m         \u001b[0;31m# Fallback: Fill with most common class index\u001b[0m\u001b[0;34m\u001b[0m\u001b[0;34m\u001b[0m\u001b[0m\n\u001b[0;32m---> 58\u001b[0;31m         \u001b[0mtest_df\u001b[0m\u001b[0;34m[\u001b[0m\u001b[0mcol\u001b[0m\u001b[0;34m]\u001b[0m \u001b[0;34m=\u001b[0m \u001b[0mlabel_encoders\u001b[0m\u001b[0;34m[\u001b[0m\u001b[0mcol\u001b[0m\u001b[0;34m]\u001b[0m\u001b[0;34m.\u001b[0m\u001b[0mtransform\u001b[0m\u001b[0;34m(\u001b[0m\u001b[0;34m[\u001b[0m\u001b[0mlabel_encoders\u001b[0m\u001b[0;34m[\u001b[0m\u001b[0mcol\u001b[0m\u001b[0;34m]\u001b[0m\u001b[0;34m.\u001b[0m\u001b[0mclasses_\u001b[0m\u001b[0;34m[\u001b[0m\u001b[0;36m0\u001b[0m\u001b[0;34m]\u001b[0m\u001b[0;34m]\u001b[0m\u001b[0;34m)\u001b[0m\u001b[0;34m[\u001b[0m\u001b[0;36m0\u001b[0m\u001b[0;34m]\u001b[0m\u001b[0;34m\u001b[0m\u001b[0;34m\u001b[0m\u001b[0m\n\u001b[0m\u001b[1;32m     59\u001b[0m \u001b[0;34m\u001b[0m\u001b[0m\n\u001b[1;32m     60\u001b[0m \u001b[0;31m# Impute numerical missing values using KNN\u001b[0m\u001b[0;34m\u001b[0m\u001b[0;34m\u001b[0m\u001b[0m\n",
            "\u001b[0;31mKeyError\u001b[0m: 'BMI_Category'"
          ]
        }
      ]
    },
    {
      "cell_type": "code",
      "source": [
        "import pandas as pd\n",
        "import numpy as np\n",
        "from sklearn.impute import KNNImputer, IterativeImputer\n",
        "from sklearn.preprocessing import LabelEncoder\n",
        "\n",
        "# Load test data\n",
        "test_df = pd.read_csv('Test_Data.csv')\n",
        "\n",
        "# Save SEQN for submission\n",
        "test_seqn = test_df['SEQN'].copy()\n",
        "\n",
        "# Drop SEQN\n",
        "test_df.drop(columns=['SEQN'], inplace=True)\n",
        "\n",
        "# Feature Engineering (to match training preprocessing)\n",
        "# 1. Glucose-Insulin Ratio (assuming it was used in training)\n",
        "test_df['Glucose_Insulin_Ratio'] = test_df['LBXGLU'] / test_df['LBXIN'].replace(0, np.nan)\n",
        "\n",
        "# 2. Clip LBXGLU outliers (using approximate IQR from training data)\n",
        "# Replace with actual training IQR values if available\n",
        "q1, q3 = 91, 104  # Example quantiles\n",
        "iqr = q3 - q1\n",
        "test_df['LBXGLU'] = test_df['LBXGLU'].clip(lower=q1 - 1.5*iqr, upper=q3 + 1.5*iqr)\n",
        "\n",
        "# Define categorical and numerical columns\n",
        "categorical_cols = ['RIAGENDR', 'PAQ605', 'DIQ010']  # Exclude BMI_Category\n",
        "numerical_cols = ['BMXBMI', 'LBXGLU', 'LBXGLT', 'LBXIN', 'Glucose_Insulin_Ratio']\n",
        "\n",
        "# Conditionally add BMI_Category if it was used in training\n",
        "if 'BMI_Category' in best_model.feature_names_in_:\n",
        "    def categorize_bmi(bmi):\n",
        "        if pd.isna(bmi):\n",
        "            return 'Normal'\n",
        "        elif bmi < 18.5:\n",
        "            return 'Underweight'\n",
        "        elif 18.5 <= bmi < 25:\n",
        "            return 'Normal'\n",
        "        elif 25 <= bmi < 30:\n",
        "            return 'Overweight'\n",
        "        else:\n",
        "            return 'Obese'\n",
        "    test_df['BMI_Category'] = test_df['BMXBMI'].apply(categorize_bmi)\n",
        "    categorical_cols.append('BMI_Category')\n",
        "\n",
        "# Handle missing values in categorical columns\n",
        "for col in categorical_cols:\n",
        "    test_df[col] = test_df[col].fillna(test_df[col].mode()[0])\n",
        "\n",
        "# Encode categorical columns, handling unseen labels\n",
        "for col in categorical_cols:\n",
        "    if col not in label_encoders:\n",
        "        # Create a new LabelEncoder if not in training\n",
        "        le = LabelEncoder()\n",
        "        test_df[col] = le.fit_transform(test_df[col])\n",
        "        label_encoders[col] = le\n",
        "    else:\n",
        "        try:\n",
        "            # Map unseen values to most common class\n",
        "            test_df[col] = test_df[col].apply(\n",
        "                lambda x: x if pd.notna(x) and x in label_encoders[col].classes_ else label_encoders[col].classes_[0]\n",
        "            )\n",
        "            test_df[col] = label_encoders[col].transform(test_df[col])\n",
        "        except Exception as e:\n",
        "            print(f\"Error encoding {col}: {e}\")\n",
        "            # Fallback: Fill with most common class index\n",
        "            test_df[col] = label_encoders[col].transform([label_encoders[col].classes_[0]])[0]\n",
        "\n",
        "# Impute numerical missing values using KNN\n",
        "knn_imputer = KNNImputer(n_neighbors=5)\n",
        "test_df[numerical_cols] = pd.DataFrame(\n",
        "    knn_imputer.fit_transform(test_df[numerical_cols]),\n",
        "    columns=numerical_cols\n",
        ")\n",
        "\n",
        "# Ensure column order matches training data\n",
        "try:\n",
        "    test_df = test_df[best_model.feature_names_in_]\n",
        "except AttributeError:\n",
        "    print(\"Warning: best_model.feature_names_in_ not found. Ensure test_df columns match training.\")\n",
        "    print(f\"Test columns: {test_df.columns.tolist()}\")\n",
        "\n",
        "# Predict with KNN-imputed data\n",
        "test_preds = best_model.predict(test_df)\n",
        "\n",
        "# Create submission DataFrame for KNN\n",
        "submission = pd.DataFrame({\n",
        "    'ID': test_seqn,\n",
        "    'Predicted': test_preds\n",
        "})\n",
        "\n",
        "# Save KNN-based submission\n",
        "submission.to_csv('submission_knn.csv', index=False)\n",
        "\n",
        "# Alternative: Impute numerical missing values using Iterative Imputer\n",
        "iter_imputer = IterativeImputer(random_state=42)\n",
        "test_df[numerical_cols] = pd.DataFrame(\n",
        "    iter_imputer.fit_transform(test_df[numerical_cols]),\n",
        "    columns=numerical_cols\n",
        ")\n",
        "\n",
        "# Predict with Iterative-imputed data\n",
        "test_preds_iter = best_model.predict(test_df[best_model.feature_names_in_])\n",
        "\n",
        "# Create submission DataFrame for Iterative Imputation\n",
        "submission_iter = pd.DataFrame({\n",
        "    'ID': test_seqn,\n",
        "    'Predicted': test_preds_iter\n",
        "})\n",
        "\n",
        "# Save Iterative-based submission\n",
        "submission_iter.to_csv('submission_iterative.csv', index=False)\n",
        "\n",
        "# Verify submission format\n",
        "print(\"KNN Submission Head:\")\n",
        "print(submission.head())\n",
        "print(\"\\nIterative Submission Head:\")\n",
        "print(submission_iter.head())\n",
        "print(\"\\nSubmission files 'submission_knn.csv' and 'submission_iterative.csv' created successfully.\")"
      ],
      "metadata": {
        "colab": {
          "base_uri": "https://localhost:8080/",
          "height": 356
        },
        "id": "FtSYuzoir86b",
        "outputId": "0d76cbb9-8a5e-42c2-e857-624022bdfdab"
      },
      "execution_count": null,
      "outputs": [
        {
          "output_type": "error",
          "ename": "KeyError",
          "evalue": "\"['gender_x_bmi', 'gender_x_glucose', 'glucose_bmi_ratio', 'insulin_glucose_ratio', 'bmi_glucose_insulin', 'activity_x_bmi'] not in index\"",
          "traceback": [
            "\u001b[0;31m---------------------------------------------------------------------------\u001b[0m",
            "\u001b[0;31mKeyError\u001b[0m                                  Traceback (most recent call last)",
            "\u001b[0;32m/tmp/ipython-input-127-4198434137.py\u001b[0m in \u001b[0;36m<cell line: 0>\u001b[0;34m()\u001b[0m\n\u001b[1;32m     75\u001b[0m \u001b[0;31m# Ensure column order matches training data\u001b[0m\u001b[0;34m\u001b[0m\u001b[0;34m\u001b[0m\u001b[0m\n\u001b[1;32m     76\u001b[0m \u001b[0;32mtry\u001b[0m\u001b[0;34m:\u001b[0m\u001b[0;34m\u001b[0m\u001b[0;34m\u001b[0m\u001b[0m\n\u001b[0;32m---> 77\u001b[0;31m     \u001b[0mtest_df\u001b[0m \u001b[0;34m=\u001b[0m \u001b[0mtest_df\u001b[0m\u001b[0;34m[\u001b[0m\u001b[0mbest_model\u001b[0m\u001b[0;34m.\u001b[0m\u001b[0mfeature_names_in_\u001b[0m\u001b[0;34m]\u001b[0m\u001b[0;34m\u001b[0m\u001b[0;34m\u001b[0m\u001b[0m\n\u001b[0m\u001b[1;32m     78\u001b[0m \u001b[0;32mexcept\u001b[0m \u001b[0mAttributeError\u001b[0m\u001b[0;34m:\u001b[0m\u001b[0;34m\u001b[0m\u001b[0;34m\u001b[0m\u001b[0m\n\u001b[1;32m     79\u001b[0m     \u001b[0mprint\u001b[0m\u001b[0;34m(\u001b[0m\u001b[0;34m\"Warning: best_model.feature_names_in_ not found. Ensure test_df columns match training.\"\u001b[0m\u001b[0;34m)\u001b[0m\u001b[0;34m\u001b[0m\u001b[0;34m\u001b[0m\u001b[0m\n",
            "\u001b[0;32m/usr/local/lib/python3.11/dist-packages/pandas/core/frame.py\u001b[0m in \u001b[0;36m__getitem__\u001b[0;34m(self, key)\u001b[0m\n\u001b[1;32m   4106\u001b[0m             \u001b[0;32mif\u001b[0m \u001b[0mis_iterator\u001b[0m\u001b[0;34m(\u001b[0m\u001b[0mkey\u001b[0m\u001b[0;34m)\u001b[0m\u001b[0;34m:\u001b[0m\u001b[0;34m\u001b[0m\u001b[0;34m\u001b[0m\u001b[0m\n\u001b[1;32m   4107\u001b[0m                 \u001b[0mkey\u001b[0m \u001b[0;34m=\u001b[0m \u001b[0mlist\u001b[0m\u001b[0;34m(\u001b[0m\u001b[0mkey\u001b[0m\u001b[0;34m)\u001b[0m\u001b[0;34m\u001b[0m\u001b[0;34m\u001b[0m\u001b[0m\n\u001b[0;32m-> 4108\u001b[0;31m             \u001b[0mindexer\u001b[0m \u001b[0;34m=\u001b[0m \u001b[0mself\u001b[0m\u001b[0;34m.\u001b[0m\u001b[0mcolumns\u001b[0m\u001b[0;34m.\u001b[0m\u001b[0m_get_indexer_strict\u001b[0m\u001b[0;34m(\u001b[0m\u001b[0mkey\u001b[0m\u001b[0;34m,\u001b[0m \u001b[0;34m\"columns\"\u001b[0m\u001b[0;34m)\u001b[0m\u001b[0;34m[\u001b[0m\u001b[0;36m1\u001b[0m\u001b[0;34m]\u001b[0m\u001b[0;34m\u001b[0m\u001b[0;34m\u001b[0m\u001b[0m\n\u001b[0m\u001b[1;32m   4109\u001b[0m \u001b[0;34m\u001b[0m\u001b[0m\n\u001b[1;32m   4110\u001b[0m         \u001b[0;31m# take() does not accept boolean indexers\u001b[0m\u001b[0;34m\u001b[0m\u001b[0;34m\u001b[0m\u001b[0m\n",
            "\u001b[0;32m/usr/local/lib/python3.11/dist-packages/pandas/core/indexes/base.py\u001b[0m in \u001b[0;36m_get_indexer_strict\u001b[0;34m(self, key, axis_name)\u001b[0m\n\u001b[1;32m   6198\u001b[0m             \u001b[0mkeyarr\u001b[0m\u001b[0;34m,\u001b[0m \u001b[0mindexer\u001b[0m\u001b[0;34m,\u001b[0m \u001b[0mnew_indexer\u001b[0m \u001b[0;34m=\u001b[0m \u001b[0mself\u001b[0m\u001b[0;34m.\u001b[0m\u001b[0m_reindex_non_unique\u001b[0m\u001b[0;34m(\u001b[0m\u001b[0mkeyarr\u001b[0m\u001b[0;34m)\u001b[0m\u001b[0;34m\u001b[0m\u001b[0;34m\u001b[0m\u001b[0m\n\u001b[1;32m   6199\u001b[0m \u001b[0;34m\u001b[0m\u001b[0m\n\u001b[0;32m-> 6200\u001b[0;31m         \u001b[0mself\u001b[0m\u001b[0;34m.\u001b[0m\u001b[0m_raise_if_missing\u001b[0m\u001b[0;34m(\u001b[0m\u001b[0mkeyarr\u001b[0m\u001b[0;34m,\u001b[0m \u001b[0mindexer\u001b[0m\u001b[0;34m,\u001b[0m \u001b[0maxis_name\u001b[0m\u001b[0;34m)\u001b[0m\u001b[0;34m\u001b[0m\u001b[0;34m\u001b[0m\u001b[0m\n\u001b[0m\u001b[1;32m   6201\u001b[0m \u001b[0;34m\u001b[0m\u001b[0m\n\u001b[1;32m   6202\u001b[0m         \u001b[0mkeyarr\u001b[0m \u001b[0;34m=\u001b[0m \u001b[0mself\u001b[0m\u001b[0;34m.\u001b[0m\u001b[0mtake\u001b[0m\u001b[0;34m(\u001b[0m\u001b[0mindexer\u001b[0m\u001b[0;34m)\u001b[0m\u001b[0;34m\u001b[0m\u001b[0;34m\u001b[0m\u001b[0m\n",
            "\u001b[0;32m/usr/local/lib/python3.11/dist-packages/pandas/core/indexes/base.py\u001b[0m in \u001b[0;36m_raise_if_missing\u001b[0;34m(self, key, indexer, axis_name)\u001b[0m\n\u001b[1;32m   6250\u001b[0m \u001b[0;34m\u001b[0m\u001b[0m\n\u001b[1;32m   6251\u001b[0m             \u001b[0mnot_found\u001b[0m \u001b[0;34m=\u001b[0m \u001b[0mlist\u001b[0m\u001b[0;34m(\u001b[0m\u001b[0mensure_index\u001b[0m\u001b[0;34m(\u001b[0m\u001b[0mkey\u001b[0m\u001b[0;34m)\u001b[0m\u001b[0;34m[\u001b[0m\u001b[0mmissing_mask\u001b[0m\u001b[0;34m.\u001b[0m\u001b[0mnonzero\u001b[0m\u001b[0;34m(\u001b[0m\u001b[0;34m)\u001b[0m\u001b[0;34m[\u001b[0m\u001b[0;36m0\u001b[0m\u001b[0;34m]\u001b[0m\u001b[0;34m]\u001b[0m\u001b[0;34m.\u001b[0m\u001b[0munique\u001b[0m\u001b[0;34m(\u001b[0m\u001b[0;34m)\u001b[0m\u001b[0;34m)\u001b[0m\u001b[0;34m\u001b[0m\u001b[0;34m\u001b[0m\u001b[0m\n\u001b[0;32m-> 6252\u001b[0;31m             \u001b[0;32mraise\u001b[0m \u001b[0mKeyError\u001b[0m\u001b[0;34m(\u001b[0m\u001b[0;34mf\"{not_found} not in index\"\u001b[0m\u001b[0;34m)\u001b[0m\u001b[0;34m\u001b[0m\u001b[0;34m\u001b[0m\u001b[0m\n\u001b[0m\u001b[1;32m   6253\u001b[0m \u001b[0;34m\u001b[0m\u001b[0m\n\u001b[1;32m   6254\u001b[0m     \u001b[0;34m@\u001b[0m\u001b[0moverload\u001b[0m\u001b[0;34m\u001b[0m\u001b[0;34m\u001b[0m\u001b[0m\n",
            "\u001b[0;31mKeyError\u001b[0m: \"['gender_x_bmi', 'gender_x_glucose', 'glucose_bmi_ratio', 'insulin_glucose_ratio', 'bmi_glucose_insulin', 'activity_x_bmi'] not in index\""
          ]
        }
      ]
    },
    {
      "cell_type": "code",
      "source": [
        "import pandas as pd\n",
        "import numpy as np\n",
        "from sklearn.impute import KNNImputer, IterativeImputer\n",
        "from sklearn.preprocessing import LabelEncoder\n",
        "\n",
        "# Load test data\n",
        "test_df = pd.read_csv('Test_Data.csv')\n",
        "\n",
        "# Save SEQN for submission\n",
        "test_seqn = test_df['SEQN'].copy()\n",
        "\n",
        "# Drop SEQN\n",
        "test_df.drop(columns=['SEQN'], inplace=True)\n",
        "\n",
        "# Feature Engineering (to match training preprocessing)\n",
        "# 1. Glucose-Insulin Ratio (assuming same as insulin_glucose_ratio or similar)\n",
        "test_df['insulin_glucose_ratio'] = test_df['LBXIN'] / test_df['LBXGLU'].replace(0, np.nan)\n",
        "\n",
        "# 2. Glucose-BMI Ratio\n",
        "test_df['glucose_bmi_ratio'] = test_df['LBXGLU'] / test_df['BMXBMI'].replace(0, np.nan)\n",
        "\n",
        "# 3. BMI-Glucose-Insulin Interaction (e.g., product)\n",
        "test_df['bmi_glucose_insulin'] = test_df['BMXBMI'] * test_df['LBXGLU'] * test_df['LBXIN']\n",
        "\n",
        "# 4. Clip LBXGLU outliers (using approximate IQR from training data)\n",
        "# Replace with actual training IQR values if available\n",
        "q1, q3 = 91, 104  # Example quantiles\n",
        "iqr = q3 - q1\n",
        "test_df['LBXGLU'] = test_df['LBXGLU'].clip(lower=q1 - 1.5*iqr, upper=q3 + 1.5*iqr)\n",
        "\n",
        "# 5. Interaction Features\n",
        "# gender_x_bmi: RIAGENDR * BMXBMI\n",
        "test_df['gender_x_bmi'] = test_df['RIAGENDR'] * test_df['BMXBMI']\n",
        "\n",
        "# gender_x_glucose: RIAGENDR * LBXGLU\n",
        "test_df['gender_x_glucose'] = test_df['RIAGENDR'] * test_df['LBXGLU']\n",
        "\n",
        "# activity_x_bmi: PAQ605 * BMXBMI\n",
        "test_df['activity_x_bmi'] = test_df['PAQ605'] * test_df['BMXBMI']\n",
        "\n",
        "# Define categorical and numerical columns\n",
        "categorical_cols = ['RIAGENDR', 'PAQ605', 'DIQ010']\n",
        "numerical_cols = [\n",
        "    'BMXBMI', 'LBXGLU', 'LBXGLT', 'LBXIN',\n",
        "    'insulin_glucose_ratio', 'glucose_bmi_ratio', 'bmi_glucose_insulin',\n",
        "    'gender_x_bmi', 'gender_x_glucose', 'activity_x_bmi'\n",
        "]\n",
        "\n",
        "# Conditionally add BMI_Category if it was used in training\n",
        "if 'BMI_Category' in getattr(best_model, 'feature_names_in_', []):\n",
        "    def categorize_bmi(bmi):\n",
        "        if pd.isna(bmi):\n",
        "            return 'Normal'\n",
        "        elif bmi < 18.5:\n",
        "            return 'Underweight'\n",
        "        elif 18.5 <= bmi < 25:\n",
        "            return 'Normal'\n",
        "        elif 25 <= bmi < 30:\n",
        "            return 'Overweight'\n",
        "        else:\n",
        "            return 'Obese'\n",
        "    test_df['BMI_Category'] = test_df['BMXBMI'].apply(categorize_bmi)\n",
        "    categorical_cols.append('BMI_Category')\n",
        "\n",
        "# Handle missing values in categorical columns\n",
        "for col in categorical_cols:\n",
        "    test_df[col] = test_df[col].fillna(test_df[col].mode()[0])\n",
        "\n",
        "# Encode categorical columns, handling unseen labels\n",
        "for col in categorical_cols:\n",
        "    if col not in label_encoders:\n",
        "        # Create a new LabelEncoder if not in training\n",
        "        le = LabelEncoder()\n",
        "        test_df[col] = le.fit_transform(test_df[col])\n",
        "        label_encoders[col] = le\n",
        "        print(f\"Created new LabelEncoder for {col}\")\n",
        "    else:\n",
        "        try:\n",
        "            # Map unseen values to most common class\n",
        "            test_df[col] = test_df[col].apply(\n",
        "                lambda x: x if pd.notna(x) and x in label_encoders[col].classes_ else label_encoders[col].classes_[0]\n",
        "            )\n",
        "            test_df[col] = label_encoders[col].transform(test_df[col])\n",
        "        except Exception as e:\n",
        "            print(f\"Error encoding {col}: {e}\")\n",
        "            # Fallback: Fill with most common class index\n",
        "            test_df[col] = label_encoders[col].transform([label_encoders[col].classes_[0]])[0]\n",
        "\n",
        "# Impute numerical missing values using KNN\n",
        "knn_imputer = KNNImputer(n_neighbors=5)\n",
        "test_df[numerical_cols] = pd.DataFrame(\n",
        "    knn_imputer.fit_transform(test_df[numerical_cols]),\n",
        "    columns=numerical_cols\n",
        ")\n",
        "\n",
        "# Ensure column order matches training data\n",
        "try:\n",
        "    test_df = test_df[best_model.feature_names_in_]\n",
        "except AttributeError:\n",
        "    print(\"Warning: best_model.feature_names_in_ not found. Ensure test_df columns match training.\")\n",
        "    print(f\"Test columns: {test_df.columns.tolist()}\")\n",
        "    print(f\"Expected columns: {best_model.feature_names_in_}\")\n",
        "    raise\n",
        "\n",
        "# Predict with KNN-imputed data\n",
        "test_preds = best_model.predict(test_df)\n",
        "\n",
        "# Create submission DataFrame for KNN\n",
        "submission = pd.DataFrame({\n",
        "    'ID': test_seqn,\n",
        "    'Predicted': test_preds\n",
        "})\n",
        "\n",
        "# Save KNN-based submission\n",
        "submission.to_csv('submission_knn.csv', index=False)\n",
        "\n",
        "# Alternative: Impute numerical missing values using Iterative Imputer\n",
        "iter_imputer = IterativeImputer(random_state=42)\n",
        "test_df[numerical_cols] = pd.DataFrame(\n",
        "    iter_imputer.fit_transform(test_df[numerical_cols]),\n",
        "    columns=numerical_cols\n",
        ")\n",
        "\n",
        "# Predict with Iterative-imputed data\n",
        "test_preds_iter = best_model.predict(test_df[best_model.feature_names_in_])\n",
        "\n",
        "# Create submission DataFrame for Iterative Imputation\n",
        "submission_iter = pd.DataFrame({\n",
        "    'ID': test_seqn,\n",
        "    'Predicted': test_preds_iter\n",
        "})\n",
        "\n",
        "# Save Iterative-based submission\n",
        "submission_iter.to_csv('submission_iterative.csv', index=False)\n",
        "\n",
        "# Verify submission format\n",
        "print(\"KNN Submission Head:\")\n",
        "print(submission.head())\n",
        "print(\"\\nIterative Submission Head:\")\n",
        "print(submission_iter.head())\n",
        "print(\"\\nSubmission files 'submission_knn.csv' and 'submission_iterative.csv' created successfully.\")"
      ],
      "metadata": {
        "colab": {
          "base_uri": "https://localhost:8080/"
        },
        "id": "XTXU5XSnsPL5",
        "outputId": "f1c424cf-2e3a-4e04-ce59-b182f1041567"
      },
      "execution_count": null,
      "outputs": [
        {
          "output_type": "stream",
          "name": "stdout",
          "text": [
            "KNN Submission Head:\n",
            "        ID  Predicted\n",
            "0  77017.0          0\n",
            "1  75580.0          0\n",
            "2  73820.0          1\n",
            "3  80489.0          0\n",
            "4  82047.0          0\n",
            "\n",
            "Iterative Submission Head:\n",
            "        ID  Predicted\n",
            "0  77017.0          0\n",
            "1  75580.0          0\n",
            "2  73820.0          1\n",
            "3  80489.0          0\n",
            "4  82047.0          0\n",
            "\n",
            "Submission files 'submission_knn.csv' and 'submission_iterative.csv' created successfully.\n"
          ]
        }
      ]
    },
    {
      "cell_type": "code",
      "source": [
        "from google.colab import files\n",
        "files.download('submission_knn.csv')\n",
        "files.download('submission_iterative.csv')"
      ],
      "metadata": {
        "colab": {
          "base_uri": "https://localhost:8080/",
          "height": 17
        },
        "id": "mr5Tc_C7skM9",
        "outputId": "cf0e7c6c-d915-4e8e-b067-ae9cfb9e5052"
      },
      "execution_count": null,
      "outputs": [
        {
          "output_type": "display_data",
          "data": {
            "text/plain": [
              "<IPython.core.display.Javascript object>"
            ],
            "application/javascript": [
              "\n",
              "    async function download(id, filename, size) {\n",
              "      if (!google.colab.kernel.accessAllowed) {\n",
              "        return;\n",
              "      }\n",
              "      const div = document.createElement('div');\n",
              "      const label = document.createElement('label');\n",
              "      label.textContent = `Downloading \"${filename}\": `;\n",
              "      div.appendChild(label);\n",
              "      const progress = document.createElement('progress');\n",
              "      progress.max = size;\n",
              "      div.appendChild(progress);\n",
              "      document.body.appendChild(div);\n",
              "\n",
              "      const buffers = [];\n",
              "      let downloaded = 0;\n",
              "\n",
              "      const channel = await google.colab.kernel.comms.open(id);\n",
              "      // Send a message to notify the kernel that we're ready.\n",
              "      channel.send({})\n",
              "\n",
              "      for await (const message of channel.messages) {\n",
              "        // Send a message to notify the kernel that we're ready.\n",
              "        channel.send({})\n",
              "        if (message.buffers) {\n",
              "          for (const buffer of message.buffers) {\n",
              "            buffers.push(buffer);\n",
              "            downloaded += buffer.byteLength;\n",
              "            progress.value = downloaded;\n",
              "          }\n",
              "        }\n",
              "      }\n",
              "      const blob = new Blob(buffers, {type: 'application/binary'});\n",
              "      const a = document.createElement('a');\n",
              "      a.href = window.URL.createObjectURL(blob);\n",
              "      a.download = filename;\n",
              "      div.appendChild(a);\n",
              "      a.click();\n",
              "      div.remove();\n",
              "    }\n",
              "  "
            ]
          },
          "metadata": {}
        },
        {
          "output_type": "display_data",
          "data": {
            "text/plain": [
              "<IPython.core.display.Javascript object>"
            ],
            "application/javascript": [
              "download(\"download_900b0af8-102d-48c1-8d13-031b0c0d928e\", \"submission_knn.csv\", 3119)"
            ]
          },
          "metadata": {}
        },
        {
          "output_type": "display_data",
          "data": {
            "text/plain": [
              "<IPython.core.display.Javascript object>"
            ],
            "application/javascript": [
              "\n",
              "    async function download(id, filename, size) {\n",
              "      if (!google.colab.kernel.accessAllowed) {\n",
              "        return;\n",
              "      }\n",
              "      const div = document.createElement('div');\n",
              "      const label = document.createElement('label');\n",
              "      label.textContent = `Downloading \"${filename}\": `;\n",
              "      div.appendChild(label);\n",
              "      const progress = document.createElement('progress');\n",
              "      progress.max = size;\n",
              "      div.appendChild(progress);\n",
              "      document.body.appendChild(div);\n",
              "\n",
              "      const buffers = [];\n",
              "      let downloaded = 0;\n",
              "\n",
              "      const channel = await google.colab.kernel.comms.open(id);\n",
              "      // Send a message to notify the kernel that we're ready.\n",
              "      channel.send({})\n",
              "\n",
              "      for await (const message of channel.messages) {\n",
              "        // Send a message to notify the kernel that we're ready.\n",
              "        channel.send({})\n",
              "        if (message.buffers) {\n",
              "          for (const buffer of message.buffers) {\n",
              "            buffers.push(buffer);\n",
              "            downloaded += buffer.byteLength;\n",
              "            progress.value = downloaded;\n",
              "          }\n",
              "        }\n",
              "      }\n",
              "      const blob = new Blob(buffers, {type: 'application/binary'});\n",
              "      const a = document.createElement('a');\n",
              "      a.href = window.URL.createObjectURL(blob);\n",
              "      a.download = filename;\n",
              "      div.appendChild(a);\n",
              "      a.click();\n",
              "      div.remove();\n",
              "    }\n",
              "  "
            ]
          },
          "metadata": {}
        },
        {
          "output_type": "display_data",
          "data": {
            "text/plain": [
              "<IPython.core.display.Javascript object>"
            ],
            "application/javascript": [
              "download(\"download_e9a48ec4-8aa7-4d6b-8d5f-c372be87b11f\", \"submission_iterative.csv\", 3119)"
            ]
          },
          "metadata": {}
        }
      ]
    },
    {
      "cell_type": "code",
      "source": [],
      "metadata": {
        "id": "9_uGUqwOvdRj"
      },
      "execution_count": null,
      "outputs": []
    },
    {
      "cell_type": "code",
      "source": [
        "import pandas as pd\n",
        "import numpy as np\n",
        "from sklearn.impute import KNNImputer, IterativeImputer\n",
        "from sklearn.preprocessing import LabelEncoder\n",
        "\n",
        "# Load test data\n",
        "test_df = pd.read_csv('Test_Data.csv')\n",
        "\n",
        "# Drop SEQN (not needed for submission)\n",
        "test_df.drop(columns=['SEQN'], inplace=True)\n",
        "\n",
        "# Feature Engineering (to match training preprocessing)\n",
        "# 1. Glucose-Insulin Ratio\n",
        "test_df['insulin_glucose_ratio'] = test_df['LBXIN'] / test_df['LBXGLU'].replace(0, np.nan)\n",
        "\n",
        "# 2. Glucose-BMI Ratio\n",
        "test_df['glucose_bmi_ratio'] = test_df['LBXGLU'] / test_df['BMXBMI'].replace(0, np.nan)\n",
        "\n",
        "# 3. BMI-Glucose-Insulin Interaction (product)\n",
        "test_df['bmi_glucose_insulin'] = test_df['BMXBMI'] * test_df['LBXGLU'] * test_df['LBXIN']\n",
        "\n",
        "# 4. Clip LBXGLU outliers (using approximate IQR from training data)\n",
        "# Replace with actual training IQR values if available\n",
        "q1, q3 = 91, 104  # Example quantiles\n",
        "iqr = q3 - q1\n",
        "test_df['LBXGLU'] = test_df['LBXGLU'].clip(lower=q1 - 1.5*iqr, upper=q3 + 1.5*iqr)\n",
        "\n",
        "# 5. Interaction Features\n",
        "# gender_x_bmi: RIAGENDR * BMXBMI\n",
        "test_df['gender_x_bmi'] = test_df['RIAGENDR'] * test_df['BMXBMI']\n",
        "\n",
        "# gender_x_glucose: RIAGENDR * LBXGLU\n",
        "test_df['gender_x_glucose'] = test_df['RIAGENDR'] * test_df['LBXGLU']\n",
        "\n",
        "# activity_x_bmi: PAQ605 * BMXBMI\n",
        "test_df['activity_x_bmi'] = test_df['PAQ605'] * test_df['BMXBMI']\n",
        "\n",
        "# Define categorical and numerical columns\n",
        "categorical_cols = ['RIAGENDR', 'PAQ605', 'DIQ010']\n",
        "numerical_cols = [\n",
        "    'BMXBMI', 'LBXGLU', 'LBXGLT', 'LBXIN',\n",
        "    'insulin_glucose_ratio', 'glucose_bmi_ratio', 'bmi_glucose_insulin',\n",
        "    'gender_x_bmi', 'gender_x_glucose', 'activity_x_bmi'\n",
        "]\n",
        "\n",
        "# Conditionally add BMI_Category if it was used in training\n",
        "if 'BMI_Category' in getattr(best_model, 'feature_names_in_', []):\n",
        "    def categorize_bmi(bmi):\n",
        "        if pd.isna(bmi):\n",
        "            return 'Normal'\n",
        "        elif bmi < 18.5:\n",
        "            return 'Underweight'\n",
        "        elif 18.5 <= bmi < 25:\n",
        "            return 'Normal'\n",
        "        elif 25 <= bmi < 30:\n",
        "            return 'Overweight'\n",
        "        else:\n",
        "            return 'Obese'\n",
        "    test_df['BMI_Category'] = test_df['BMXBMI'].apply(categorize_bmi)\n",
        "    categorical_cols.append('BMI_Category')\n",
        "\n",
        "# Handle missing values in categorical columns\n",
        "for col in categorical_cols:\n",
        "    test_df[col] = test_df[col].fillna(test_df[col].mode()[0])\n",
        "\n",
        "# Encode categorical columns, handling unseen labels\n",
        "for col in categorical_cols:\n",
        "    if col not in label_encoders:\n",
        "        # Create a new LabelEncoder if not in training\n",
        "        le = LabelEncoder()\n",
        "        test_df[col] = le.fit_transform(test_df[col])\n",
        "        label_encoders[col] = le\n",
        "        print(f\"Created new LabelEncoder for {col}\")\n",
        "    else:\n",
        "        try:\n",
        "            # Map unseen values to most common class\n",
        "            test_df[col] = test_df[col].apply(\n",
        "                lambda x: x if pd.notna(x) and x in label_encoders[col].classes_ else label_encoders[col].classes_[0]\n",
        "            )\n",
        "            test_df[col] = label_encoders[col].transform(test_df[col])\n",
        "        except Exception as e:\n",
        "            print(f\"Error encoding {col}: {e}\")\n",
        "            # Fallback: Fill with most common class index\n",
        "            test_df[col] = label_encoders[col].transform([label_encoders[col].classes_[0]])[0]\n",
        "\n",
        "# Impute numerical missing values using KNN\n",
        "knn_imputer = KNNImputer(n_neighbors=5)\n",
        "test_df[numerical_cols] = pd.DataFrame(\n",
        "    knn_imputer.fit_transform(test_df[numerical_cols]),\n",
        "    columns=numerical_cols\n",
        ")\n",
        "\n",
        "# Ensure column order matches training data\n",
        "try:\n",
        "    test_df = test_df[best_model.feature_names_in_]\n",
        "except AttributeError:\n",
        "    print(\"Warning: best_model.feature_names_in_ not found. Ensure test_df columns match training.\")\n",
        "    print(f\"Test columns: {test_df.columns.tolist()}\")\n",
        "    print(f\"Expected columns: {best_model.feature_names_in_}\")\n",
        "    raise\n",
        "\n",
        "# Predict with KNN-imputed data\n",
        "test_preds = best_model.predict(test_df)\n",
        "\n",
        "# Create submission DataFrame for KNN with only age_group column\n",
        "submission = pd.DataFrame({\n",
        "    'age_group': test_preds\n",
        "})\n",
        "\n",
        "# Save KNN-based submission\n",
        "submission.to_csv('submission_knn.csv', index=False)\n",
        "\n",
        "# Alternative: Impute numerical missing values using Iterative Imputer\n",
        "iter_imputer = IterativeImputer(random_state=42)\n",
        "test_df[numerical_cols] = pd.DataFrame(\n",
        "    iter_imputer.fit_transform(test_df[numerical_cols]),\n",
        "    columns=numerical_cols\n",
        ")\n",
        "\n",
        "# Predict with Iterative-imputed data\n",
        "test_preds_iter = best_model.predict(test_df[best_model.feature_names_in_])\n",
        "\n",
        "# Create submission DataFrame for Iterative Imputation with only age_group column\n",
        "submission_iter = pd.DataFrame({\n",
        "    'age_group': test_preds_iter\n",
        "})\n",
        "\n",
        "# Save Iterative-based submission\n",
        "submission_iter.to_csv('submission_iterative.csv', index=False)\n",
        "\n",
        "# Verify submission format\n",
        "print(\"KNN Submission Head:\")\n",
        "print(submission.head())\n",
        "print(\"\\nIterative Submission Head:\")\n",
        "print(submission_iter.head())\n",
        "print(\"\\nSubmission files 'submission_knn.csv' and 'submission_iterative.csv' created successfully.\")"
      ],
      "metadata": {
        "colab": {
          "base_uri": "https://localhost:8080/"
        },
        "id": "SM26eT9jvSdB",
        "outputId": "c5ad4834-e59d-413e-fd0a-3cd4d03e5036"
      },
      "execution_count": null,
      "outputs": [
        {
          "output_type": "stream",
          "name": "stdout",
          "text": [
            "KNN Submission Head:\n",
            "   age_group\n",
            "0          0\n",
            "1          0\n",
            "2          1\n",
            "3          0\n",
            "4          0\n",
            "\n",
            "Iterative Submission Head:\n",
            "   age_group\n",
            "0          0\n",
            "1          0\n",
            "2          1\n",
            "3          0\n",
            "4          0\n",
            "\n",
            "Submission files 'submission_knn.csv' and 'submission_iterative.csv' created successfully.\n"
          ]
        }
      ]
    },
    {
      "cell_type": "code",
      "source": [
        "from google.colab import files\n",
        "files.download('submission_knn.csv')\n",
        "files.download('submission_iterative.csv')"
      ],
      "metadata": {
        "id": "5ALf_DiKvfgW",
        "outputId": "986d01b5-f0ad-4b3b-8392-f6db162ecf9d",
        "colab": {
          "base_uri": "https://localhost:8080/",
          "height": 17
        }
      },
      "execution_count": null,
      "outputs": [
        {
          "output_type": "display_data",
          "data": {
            "text/plain": [
              "<IPython.core.display.Javascript object>"
            ],
            "application/javascript": [
              "\n",
              "    async function download(id, filename, size) {\n",
              "      if (!google.colab.kernel.accessAllowed) {\n",
              "        return;\n",
              "      }\n",
              "      const div = document.createElement('div');\n",
              "      const label = document.createElement('label');\n",
              "      label.textContent = `Downloading \"${filename}\": `;\n",
              "      div.appendChild(label);\n",
              "      const progress = document.createElement('progress');\n",
              "      progress.max = size;\n",
              "      div.appendChild(progress);\n",
              "      document.body.appendChild(div);\n",
              "\n",
              "      const buffers = [];\n",
              "      let downloaded = 0;\n",
              "\n",
              "      const channel = await google.colab.kernel.comms.open(id);\n",
              "      // Send a message to notify the kernel that we're ready.\n",
              "      channel.send({})\n",
              "\n",
              "      for await (const message of channel.messages) {\n",
              "        // Send a message to notify the kernel that we're ready.\n",
              "        channel.send({})\n",
              "        if (message.buffers) {\n",
              "          for (const buffer of message.buffers) {\n",
              "            buffers.push(buffer);\n",
              "            downloaded += buffer.byteLength;\n",
              "            progress.value = downloaded;\n",
              "          }\n",
              "        }\n",
              "      }\n",
              "      const blob = new Blob(buffers, {type: 'application/binary'});\n",
              "      const a = document.createElement('a');\n",
              "      a.href = window.URL.createObjectURL(blob);\n",
              "      a.download = filename;\n",
              "      div.appendChild(a);\n",
              "      a.click();\n",
              "      div.remove();\n",
              "    }\n",
              "  "
            ]
          },
          "metadata": {}
        },
        {
          "output_type": "display_data",
          "data": {
            "text/plain": [
              "<IPython.core.display.Javascript object>"
            ],
            "application/javascript": [
              "download(\"download_32fa6323-1783-4bd2-ac0d-9a64eaefb225\", \"submission_knn.csv\", 634)"
            ]
          },
          "metadata": {}
        },
        {
          "output_type": "display_data",
          "data": {
            "text/plain": [
              "<IPython.core.display.Javascript object>"
            ],
            "application/javascript": [
              "\n",
              "    async function download(id, filename, size) {\n",
              "      if (!google.colab.kernel.accessAllowed) {\n",
              "        return;\n",
              "      }\n",
              "      const div = document.createElement('div');\n",
              "      const label = document.createElement('label');\n",
              "      label.textContent = `Downloading \"${filename}\": `;\n",
              "      div.appendChild(label);\n",
              "      const progress = document.createElement('progress');\n",
              "      progress.max = size;\n",
              "      div.appendChild(progress);\n",
              "      document.body.appendChild(div);\n",
              "\n",
              "      const buffers = [];\n",
              "      let downloaded = 0;\n",
              "\n",
              "      const channel = await google.colab.kernel.comms.open(id);\n",
              "      // Send a message to notify the kernel that we're ready.\n",
              "      channel.send({})\n",
              "\n",
              "      for await (const message of channel.messages) {\n",
              "        // Send a message to notify the kernel that we're ready.\n",
              "        channel.send({})\n",
              "        if (message.buffers) {\n",
              "          for (const buffer of message.buffers) {\n",
              "            buffers.push(buffer);\n",
              "            downloaded += buffer.byteLength;\n",
              "            progress.value = downloaded;\n",
              "          }\n",
              "        }\n",
              "      }\n",
              "      const blob = new Blob(buffers, {type: 'application/binary'});\n",
              "      const a = document.createElement('a');\n",
              "      a.href = window.URL.createObjectURL(blob);\n",
              "      a.download = filename;\n",
              "      div.appendChild(a);\n",
              "      a.click();\n",
              "      div.remove();\n",
              "    }\n",
              "  "
            ]
          },
          "metadata": {}
        },
        {
          "output_type": "display_data",
          "data": {
            "text/plain": [
              "<IPython.core.display.Javascript object>"
            ],
            "application/javascript": [
              "download(\"download_b9e7847b-1946-4f76-8d6b-5c270d40578e\", \"submission_iterative.csv\", 634)"
            ]
          },
          "metadata": {}
        }
      ]
    }
  ]
}